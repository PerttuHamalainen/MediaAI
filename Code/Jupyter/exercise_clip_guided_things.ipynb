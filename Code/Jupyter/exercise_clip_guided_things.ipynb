{
 "cells": [
  {
   "cell_type": "markdown",
   "id": "c2031d7e",
   "metadata": {
    "id": "c2031d7e"
   },
   "source": [
    "# Exercise: CLIP-Based Image/Text Retrieval and Synthesis\n",
    "\n",
    "In this exercise, we will build some intuitive understanding of how a general-purpose image/text correspondence models such as OpenAI's Contrastive Language-Image Pretraining (CLIP) model and diffusion models can be used for generative and creative purposes.\n",
    "\n",
    "#### Learning goals:\n",
    "\n",
    "* Use CLIP encoders/decoders to perform image retrieval and synthesis\n",
    "* Examine the use of diffusion model for image generation\n",
    "\n",
    "#### After you've read, run, and understood the provided code, perform these tasks:\n",
    "\n",
    "* Easy: change the prompt for image synthesis until you get an interesting image.\n",
    "    * You can share your image (as long as appropriate) on class Discord.\n",
    "* Easy: using your own text samples, perform latent blending between two text samples and visualize the resulting image using image synthesis.\n",
    "    * Suggestion: See for yourself that latent math like \"king\" - \"man\" + \"woman\" = \"queen\" holds\n",
    "    * Suggestion: try blending a \"content prompt\" with a \"style prompt\", e.g. \"an aerial view of a city\" + \"a Van Gogh painting\"\n",
    "    * Again, feel free to share your results!\n",
    "* Medium: modify the code to perform image search (by text and image)\n",
    "    * Download the COCO Val2017 dataset (http://images.cocodataset.org/zips/val2017.zip)\n",
    "    * Find an image within the dataset, whose CLIP-embedding is closest to the following image (https://i.imgur.com/S0iR4Zr.png):\n",
    "    <div>\n",
    "    <img src=\"https://i.imgur.com/S0iR4Zr.png\" width=\"300\"/>\n",
    "    </div>\n",
    "    * Find an image within the dataset, whose CLIP-embedding is closest to the following text prompt:\n",
    "```\n",
    "man eating pie\n",
    "```\n",
    "* Easy (optional): if your image/text retrieval is too slow, pre-compute embeddings to accelerate things.\n",
    "* Easy: using your own text samples, perform latent blending between two text samples and visualize the resulting image using image retrieval.\n",
    "* Easy: using your own text samples, perform latent blending between two text samples and search for the best sample text describing the blended text among Flickr8k captions (https://www.dropbox.com/s/4dgs7e0r3ypaqus/just_captions.txt?dl=1).\n",
    "* Medium: perform latent blending between two image samples from COCO Val2017. Search for the best caption describing the blended image among Flickr8k captions.\n",
    "* Hard: Use a CLIP encoder to create a \"style embedding\" from an image or a text, and then perform a style transfer on any image of your choice.\n",
    "* Hard: Fork the clipcoders repository (https://github.com/namheegordonkim/clipcoders) and add another decoder that performs supersampling diffusion from 256x256 images to 512x512 images. (See https://github.com/crowsonkb/v-diffusion-pytorch/issues/10)\n",
    "* Project idea: Fine-tune CLIP with an image caption dataset of your choice. Visualize the fine-tuned results with image retrieval and synthesis (for synthesis, use a classifier-guided diffusion decoder)."
   ]
  },
  {
   "cell_type": "markdown",
   "id": "49e6164d",
   "metadata": {
    "id": "49e6164d"
   },
   "source": [
    "## Dependencies\n",
    "\n",
    "We will use a customized encoder/decoder objects to make our code easier to read. After understanding what's going on, you are most welcome to read the source code, as understanding the array/tensor manipulations underneath will be more useful for training and scaling up the operations."
   ]
  },
  {
   "cell_type": "code",
   "execution_count": null,
   "id": "5465b740",
   "metadata": {
    "colab": {
     "base_uri": "https://localhost:8080/"
    },
    "id": "5465b740",
    "outputId": "708e5ec5-dc48-487a-b532-430284fb88da",
    "scrolled": true
   },
   "outputs": [],
   "source": [
    "# CLIP\n",
    "!pip install ftfy regex tqdm\n",
    "!pip install git+https://github.com/openai/CLIP.git\n",
    "\n",
    "# Custom Encoder-Decoder wrappers\n",
    "!pip install git+https://github.com/namheegordonkim/clipcoders\n",
    "\n",
    "# Demo images\n",
    "!wget https://i.imgur.com/eB1otqV.png -O child.png\n",
    "!wget https://i.imgur.com/YETS1O1.png -O two-dogs-0.png\n",
    "!wget https://i.imgur.com/H4tTA0r.png -O two-dogs-1.png\n",
    "!wget https://i.imgur.com/6mpZTzW.jpg -O cat.jpg\n",
    "!wget https://i.imgur.com/S0iR4Zr.png -O cat2.png"
   ]
  },
  {
   "cell_type": "markdown",
   "id": "c1c1cebf",
   "metadata": {
    "id": "c1c1cebf"
   },
   "source": [
    "As usual, we import necessary dependencies at the top of the notebook:"
   ]
  },
  {
   "cell_type": "code",
   "execution_count": null,
   "id": "1b2bd344",
   "metadata": {
    "id": "1b2bd344"
   },
   "outputs": [],
   "source": [
    "import clip\n",
    "import torch\n",
    "import numpy as np\n",
    "from clipcoders.encoders import CLIPTextEncoder, CLIPImageEncoder\n",
    "from clipcoders.decoders import ClassifierFreeGuidanceDecoder\n",
    "from clipcoders.diffusion.models import get_model\n",
    "from clipcoders.diffusion.utils import to_pil_image, from_pil_image\n",
    "from PIL import Image\n",
    "from torch.nn import functional as F\n",
    "from torchvision.transforms import functional as TF\n",
    "from IPython.core.display import display, HTML\n",
    "from glob import glob\n",
    "from torch.utils.data import Dataset, DataLoader\n",
    "from tqdm.notebook import tqdm\n",
    "\n",
    "device = torch.device('cuda:0' if torch.cuda.is_available() else 'cpu')\n",
    "torch.manual_seed(0)\n",
    "np.random.seed(0)"
   ]
  },
  {
   "cell_type": "markdown",
   "id": "c04c047f",
   "metadata": {
    "id": "c04c047f"
   },
   "source": [
    "### Load a Pre-Trained CLIP Model"
   ]
  },
  {
   "cell_type": "code",
   "execution_count": null,
   "id": "1dfec07f",
   "metadata": {
    "colab": {
     "base_uri": "https://localhost:8080/"
    },
    "id": "1dfec07f",
    "outputId": "a98dddd6-cf27-4360-af26-36cb03f6c4e1"
   },
   "outputs": [],
   "source": [
    "clip_model = clip.load(\"ViT-B/16\")[0]\n",
    "clip_model.eval().requires_grad_(False).to(device)"
   ]
  },
  {
   "cell_type": "markdown",
   "id": "dda290e6",
   "metadata": {
    "id": "dda290e6"
   },
   "source": [
    "### Make CLIP-Based Encoders"
   ]
  },
  {
   "cell_type": "code",
   "execution_count": null,
   "id": "60c5ff7c",
   "metadata": {
    "id": "60c5ff7c"
   },
   "outputs": [],
   "source": [
    "clip_text_encoder = CLIPTextEncoder(\n",
    "    clip_model=clip_model,\n",
    "    device=device\n",
    ")\n",
    "clip_image_encoder = CLIPImageEncoder(\n",
    "    clip_model=clip_model,\n",
    "    device=device,\n",
    "    cutn=16,\n",
    "    cut_pow=1\n",
    ")"
   ]
  },
  {
   "cell_type": "markdown",
   "id": "be579a2c",
   "metadata": {
    "id": "be579a2c"
   },
   "source": [
    "What does a CLIP-based text encoder do?"
   ]
  },
  {
   "cell_type": "code",
   "execution_count": null,
   "id": "64405da6",
   "metadata": {
    "id": "64405da6"
   },
   "outputs": [],
   "source": [
    "sample_text_embedding = clip_text_encoder.encode(\"here is a sample text.\")"
   ]
  },
  {
   "cell_type": "code",
   "execution_count": null,
   "id": "a0270a05",
   "metadata": {
    "colab": {
     "base_uri": "https://localhost:8080/"
    },
    "id": "a0270a05",
    "outputId": "6152d0cf-43fb-46a1-efc6-ee309ec63e17"
   },
   "outputs": [],
   "source": [
    "print(sample_text_embedding.shape)"
   ]
  },
  {
   "cell_type": "markdown",
   "id": "b8d391d0",
   "metadata": {
    "id": "b8d391d0"
   },
   "source": [
    "What does a CLIP-based image encoder do?"
   ]
  },
  {
   "cell_type": "code",
   "execution_count": null,
   "id": "7c28006f",
   "metadata": {
    "id": "7c28006f",
    "scrolled": true
   },
   "outputs": [],
   "source": [
    "sample_image = Image.open(\"cat.jpg\")\n",
    "sample_image_tensor = from_pil_image(sample_image).unsqueeze(0).to(device)\n",
    "sample_image_embedding = clip_image_encoder.encode(sample_image_tensor)"
   ]
  },
  {
   "cell_type": "code",
   "execution_count": null,
   "id": "42988dee",
   "metadata": {
    "colab": {
     "base_uri": "https://localhost:8080/"
    },
    "id": "42988dee",
    "outputId": "cc79ce51-be0f-4645-98e8-2f892df5d376"
   },
   "outputs": [],
   "source": [
    "print(sample_image_embedding.shape)"
   ]
  },
  {
   "cell_type": "markdown",
   "id": "e7084778",
   "metadata": {
    "id": "e7084778"
   },
   "source": [
    "## Measuring Latent Similarity with Embeddings\n",
    "\n",
    "Why would one want to use image and text encoders? Image-text correspondence models like CLIP establishes a latent space where images and texts can be compared in terms of semantic content. Below, we provide a simple example."
   ]
  },
  {
   "cell_type": "markdown",
   "id": "2c9d7a55",
   "metadata": {
    "id": "2c9d7a55"
   },
   "source": [
    "Consider the following three image-text pairs:\n",
    "\n",
    "<div>\n",
    "    <table class=\"tg\">\n",
    "    <thead>\n",
    "      <tr>\n",
    "        <th>Index</th>\n",
    "        <th class=\"tg-0pky\">Image</th>\n",
    "        <th class=\"tg-0pky\">Text</th>\n",
    "      </tr>\n",
    "    </thead>\n",
    "    <tbody>\n",
    "      <tr>\n",
    "        <td>0</td>\n",
    "        <td class=\"tg-fymr\"><img src=\"attachment:image.png\" width=\"300\"/></td>\n",
    "        <td class=\"tg-fymr\">Two dogs of different breeds looking at each other on the road.</td>\n",
    "      </tr>\n",
    "      <tr>\n",
    "        <td>1</td>\n",
    "        <td class=\"tg-0pky\"><img src=\"attachment:image-3.png\" width=\"300\"/></td>\n",
    "        <td class=\"tg-0pky\">Two dogs playing together on a beach.</td>\n",
    "      </tr>\n",
    "      <tr>\n",
    "        <td>2</td>\n",
    "        <td class=\"tg-0pky\"><img src=\"attachment:image-2.png\" width=\"300\"/></td>\n",
    "        <td class=\"tg-0pky\">A child biting into a baked good.</td>\n",
    "      </tr>\n",
    "    </tbody>\n",
    "    </table>\n",
    "</div>"
   ]
  },
  {
   "cell_type": "markdown",
   "id": "adc993aa",
   "metadata": {
    "id": "adc993aa"
   },
   "source": [
    "Images 0 and 1 are similar in concept, and image 2 is very different from the others. How does CLIP help us quantify this difference?"
   ]
  },
  {
   "cell_type": "code",
   "execution_count": null,
   "id": "c7dd7b64",
   "metadata": {
    "id": "c7dd7b64"
   },
   "outputs": [],
   "source": [
    "# A distance metric to be used in latent spaces\n",
    "def spherical_dist(x, y):\n",
    "    x = F.normalize(x, dim=-1)\n",
    "    y = F.normalize(y, dim=-1)\n",
    "    return (x - y).norm(dim=-1).div(2).arcsin().pow(2).mul(2).mean()\n",
    "\n",
    "# Sometimes, you will want group-to-group distances\n",
    "def spherical_dists(x, y):\n",
    "    x = F.normalize(x, dim=-1)\n",
    "    y = F.normalize(y, dim=-1)\n",
    "    return (x - y).norm(dim=-1).div(2).arcsin().pow(2).mul(2)\n",
    "\n",
    "# To make images more uniform-sized\n",
    "def resize_and_center_crop(image, size):\n",
    "    fac = max(size[0] / image.size[0], size[1] / image.size[1])\n",
    "    image = image.resize((int(fac * image.size[0]), int(fac * image.size[1])), Image.LANCZOS)\n",
    "    return TF.center_crop(image, size[::-1])"
   ]
  },
  {
   "cell_type": "code",
   "execution_count": null,
   "id": "292a8fc7",
   "metadata": {
    "colab": {
     "base_uri": "https://localhost:8080/",
     "height": 633
    },
    "id": "292a8fc7",
    "outputId": "b3fe143c-aff0-40e9-8906-5c1766a08e55"
   },
   "outputs": [],
   "source": [
    "# To quantify the difference among pairs of images\n",
    "# Prepare image tensors\n",
    "two_dogs_0_url = \"https://i.imgur.com/YETS1O1.png\"\n",
    "two_dogs_1_url = \"https://i.imgur.com/H4tTA0r.png\"\n",
    "child_url = \"https://i.imgur.com/eB1otqV.png\"\n",
    "\n",
    "two_dogs_0_filename = \"two-dogs-0.png\"\n",
    "two_dogs_1_filename = \"two-dogs-1.png\"\n",
    "child_filename = \"child.png\"\n",
    "\n",
    "two_dogs_0_image = resize_and_center_crop(Image.open(two_dogs_0_filename).convert(\"RGB\"), (640, 480))\n",
    "two_dogs_0_image_tensor = from_pil_image(two_dogs_0_image).unsqueeze(0).to(device)\n",
    "two_dogs_1_image = resize_and_center_crop(Image.open(two_dogs_1_filename).convert(\"RGB\"), (640, 480))\n",
    "two_dogs_1_image_tensor = from_pil_image(two_dogs_1_image).unsqueeze(0).to(device)\n",
    "child_image = resize_and_center_crop(Image.open(child_filename).convert(\"RGB\"), (640, 480))\n",
    "child_image_tensor = from_pil_image(child_image).unsqueeze(0).to(device)\n",
    "\n",
    "# Prepare image embeddings\n",
    "two_dogs_0_image_embedding = clip_image_encoder.encode(two_dogs_0_image_tensor)\n",
    "two_dogs_1_image_embedding = clip_image_encoder.encode(two_dogs_1_image_tensor)\n",
    "child_image_embedding = clip_image_encoder.encode(child_image_tensor)\n",
    "\n",
    "# Finally, compute distances between embeddings\n",
    "display(HTML(\n",
    "    f\"\"\"\n",
    "    <table>\n",
    "    <tr>\n",
    "    <td><img src={two_dogs_0_url} width=200px /></td>\n",
    "    <td><img src={two_dogs_0_url} width=200px /></td>\n",
    "    <td>dist={spherical_dist(two_dogs_0_image_embedding, two_dogs_0_image_embedding):.3f}</td>\n",
    "    </tr>\n",
    "    \n",
    "    <tr>\n",
    "    <td><img src={two_dogs_0_url} width=200px /></td>\n",
    "    <td><img src={two_dogs_1_url} width=200px /></td>\n",
    "    <td>dist={spherical_dist(two_dogs_0_image_embedding, two_dogs_1_image_embedding):.3f}</td>\n",
    "    </tr>\n",
    "    \n",
    "    <tr>\n",
    "    <td><img src={two_dogs_0_url} width=200px /></td>\n",
    "    <td><img src={child_url} width=200px /></td>\n",
    "    <td>dist={spherical_dist(two_dogs_0_image_embedding, child_image_embedding):.3f}</td>\n",
    "    </tr>\n",
    "    \n",
    "    <tr>\n",
    "    <td><img src={two_dogs_1_url} width=200px /></td>\n",
    "    <td><img src={child_url} width=200px /></td>\n",
    "    <td>dist={spherical_dist(two_dogs_1_image_embedding, child_image_embedding):.3f}</td>\n",
    "    </tr>\n",
    "    </table>\n",
    "    \"\"\"\n",
    "))"
   ]
  },
  {
   "cell_type": "code",
   "execution_count": null,
   "id": "6c9f180e",
   "metadata": {
    "colab": {
     "base_uri": "https://localhost:8080/",
     "height": 104
    },
    "id": "6c9f180e",
    "outputId": "0cee71be-77d4-40f8-a129-eb1cb7e13992"
   },
   "outputs": [],
   "source": [
    "# To quantify the difference among pairs of texts\n",
    "# Prepare texts\n",
    "two_dogs_0_text = \"Two dogs of different breeds looking at each other on the road.\"\n",
    "two_dogs_1_text = \"Two dogs playing together on a beach.\"\n",
    "child_text = \"A child biting into a baked good.\"\n",
    "\n",
    "# Prepare text embeddings\n",
    "two_dogs_0_text_embedding = clip_text_encoder.encode(two_dogs_0_text)\n",
    "two_dogs_1_text_embedding = clip_text_encoder.encode(two_dogs_1_text)\n",
    "child_text_embedding = clip_text_encoder.encode(child_text)\n",
    "\n",
    "# Compute distance between embeddings\n",
    "display(HTML(\n",
    "    f\"\"\"\n",
    "    <table>\n",
    "    <tr>\n",
    "    <td>{two_dogs_0_text}</td>\n",
    "    <td>{two_dogs_0_text}</td>\n",
    "    <td>dist={spherical_dist(two_dogs_0_text_embedding, two_dogs_0_text_embedding):.3f}</td>\n",
    "    </tr>\n",
    "    \n",
    "    <tr>\n",
    "    <td>{two_dogs_0_text}</td>\n",
    "    <td>{two_dogs_1_text}</td>\n",
    "    <td>dist={spherical_dist(two_dogs_0_text_embedding, two_dogs_1_text_embedding):.3f}</td>\n",
    "    </tr>\n",
    "    \n",
    "    <tr>\n",
    "    <td>{two_dogs_0_text}</td>\n",
    "    <td>{child_text}</td>\n",
    "    <td>dist={spherical_dist(two_dogs_0_text_embedding, child_text_embedding):.3f}</td>\n",
    "    </tr>\n",
    "    \n",
    "    <tr>\n",
    "    <td>{two_dogs_1_text}</td>\n",
    "    <td>{child_text}</td>\n",
    "    <td>dist={spherical_dist(two_dogs_1_text_embedding, child_text_embedding):.3f}</td>\n",
    "    </tr>\n",
    "    </table>\n",
    "    \"\"\"\n",
    "))"
   ]
  },
  {
   "cell_type": "code",
   "execution_count": null,
   "id": "ed8d7aec",
   "metadata": {
    "colab": {
     "base_uri": "https://localhost:8080/",
     "height": 915
    },
    "id": "ed8d7aec",
    "outputId": "28f0782c-44ba-459f-db37-b7fe0070f0ab",
    "scrolled": true
   },
   "outputs": [],
   "source": [
    "# To compute distance between images and texts\n",
    "display(HTML(\n",
    "    f\"\"\"\n",
    "    <table>\n",
    "    <tr>\n",
    "    <td><img src={two_dogs_0_url} width=200px /></td>\n",
    "    <td>{two_dogs_0_text}</td>\n",
    "    <td>dist={spherical_dist(two_dogs_0_image_embedding, two_dogs_0_text_embedding):.3f}</td>\n",
    "    </tr>\n",
    "    \n",
    "    <tr>\n",
    "    <td><img src={two_dogs_0_url} width=200px /></td>\n",
    "    <td>{two_dogs_1_text}</td>\n",
    "    <td>dist={spherical_dist(two_dogs_0_image_embedding, two_dogs_1_text_embedding):.3f}</td>\n",
    "    </tr>\n",
    "    \n",
    "    <tr>\n",
    "    <td><img src={two_dogs_0_url} width=200px /></td>\n",
    "    <td>{child_text}</td>\n",
    "    <td>dist={spherical_dist(two_dogs_0_image_embedding, child_text_embedding):.3f}</td>\n",
    "    </tr>\n",
    "    \n",
    "    <tr>\n",
    "    <td><img src={two_dogs_1_url} width=200px /></td>\n",
    "    <td>{two_dogs_1_text}</td>\n",
    "    <td>dist={spherical_dist(two_dogs_1_image_embedding, two_dogs_1_text_embedding):.3f}</td>\n",
    "    </tr>\n",
    "    \n",
    "    <tr>\n",
    "    <td><img src={two_dogs_1_url} width=200px /></td>\n",
    "    <td>{two_dogs_0_text}</td>\n",
    "    <td>dist={spherical_dist(two_dogs_1_image_embedding, two_dogs_0_text_embedding):.3f}</td>\n",
    "    </tr>\n",
    "    \n",
    "    <tr>\n",
    "    <td><img src={two_dogs_1_url} width=200px /></td>\n",
    "    <td>{child_text}</td>\n",
    "    <td>dist={spherical_dist(two_dogs_0_image_embedding, child_text_embedding):.3f}</td>\n",
    "    </tr>\n",
    "    </table>\n",
    "    \"\"\"\n",
    "))"
   ]
  },
  {
   "cell_type": "markdown",
   "id": "37a7503e",
   "metadata": {
    "id": "37a7503e"
   },
   "source": [
    "## CLIP-Based Image Retrieval from Text\n",
    "\n",
    "Since CLIP's image embeddings and text embeddings can be used to compute similarities across these domains, we can do something akin to Google's image search, where a text input is matched with images. Generally, these steps are involved:\n",
    "\n",
    "* Encode text\n",
    "* Encode images\n",
    "* Get distance between text and each image\n",
    "* Return the image with the lowest distance"
   ]
  },
  {
   "cell_type": "code",
   "execution_count": null,
   "id": "a84f3169",
   "metadata": {
    "id": "a84f3169"
   },
   "outputs": [],
   "source": [
    "# This is our \"database\" of images\n",
    "images = [two_dogs_0_image, two_dogs_1_image, child_image]\n",
    "\n",
    "# A function to make it easier to do image retrieval\n",
    "def get_image_from_prompt(prompt, images):\n",
    "    # to prevent gradient computation from clogging memory\n",
    "    with torch.no_grad():\n",
    "        prompt_embeddig = clip_text_encoder.encode(prompt)\n",
    "        image_tensors = [from_pil_image(image).unsqueeze(0).to(device) for image in images]\n",
    "        image_embeddings = [clip_image_encoder.encode(image_tensor) for image_tensor in image_tensors]\n",
    "        dists = np.array([spherical_dist(prompt_embeddig, embedding).mean().cpu().detach().numpy() for embedding in image_embeddings])\n",
    "    return images[np.argmin(dists)]"
   ]
  },
  {
   "cell_type": "code",
   "execution_count": null,
   "id": "6bd4d1f9",
   "metadata": {
    "colab": {
     "base_uri": "https://localhost:8080/",
     "height": 497
    },
    "id": "6bd4d1f9",
    "outputId": "a4b292ba-8d0c-4879-d297-69c901b58da1",
    "scrolled": true
   },
   "outputs": [],
   "source": [
    "get_image_from_prompt(\"beach\", images)"
   ]
  },
  {
   "cell_type": "code",
   "execution_count": null,
   "id": "8368b9e6",
   "metadata": {
    "colab": {
     "base_uri": "https://localhost:8080/",
     "height": 497
    },
    "id": "8368b9e6",
    "outputId": "c64c23cb-fae1-4549-fb8b-35b1ae0cb30c",
    "scrolled": true
   },
   "outputs": [],
   "source": [
    "get_image_from_prompt(\"child\", images)"
   ]
  },
  {
   "cell_type": "code",
   "execution_count": null,
   "id": "962640b8",
   "metadata": {
    "colab": {
     "base_uri": "https://localhost:8080/",
     "height": 497
    },
    "id": "962640b8",
    "outputId": "79639a17-36e3-4055-e212-0e9aebb24ef6",
    "scrolled": true
   },
   "outputs": [],
   "source": [
    "get_image_from_prompt(\"fighting\", images)"
   ]
  },
  {
   "cell_type": "markdown",
   "id": "e0728c0f",
   "metadata": {
    "id": "e0728c0f"
   },
   "source": [
    "## Exercise: Image Retrieval from COCO Val2017 Dataset with Text\n"
   ]
  },
  {
   "cell_type": "code",
   "execution_count": null,
   "id": "bbf83c63",
   "metadata": {
    "colab": {
     "base_uri": "https://localhost:8080/"
    },
    "id": "bbf83c63",
    "outputId": "6a7e69c4-dfb5-4a48-a3f7-713cbad3e623",
    "scrolled": false
   },
   "outputs": [],
   "source": [
    "!wget http://images.cocodataset.org/zips/val2017.zip\n",
    "!unzip val2017.zip"
   ]
  },
  {
   "cell_type": "code",
   "execution_count": null,
   "id": "effedc7a",
   "metadata": {
    "id": "effedc7a"
   },
   "outputs": [],
   "source": [
    "class MyImageDataset(Dataset):\n",
    "    \"\"\"\n",
    "    Makes it easy to interact with the downloaded dataset\n",
    "    \"\"\"\n",
    "    \n",
    "    def __init__(self, root):\n",
    "        self.filenames = sorted(glob(f\"{root}/*.jpg\"))\n",
    "        \n",
    "    def __len__(self):\n",
    "        return len(self.filenames)\n",
    "    \n",
    "    def __getitem__(self, index):\n",
    "        return resize_and_center_crop(Image.open(self.filenames[index]).convert(\"RGB\"), (640, 480))\n",
    "    "
   ]
  },
  {
   "cell_type": "code",
   "execution_count": null,
   "id": "qSjhKEuROY0L",
   "metadata": {
    "id": "qSjhKEuROY0L"
   },
   "outputs": [],
   "source": [
    "image_dataset = MyImageDataset(\"val2017\")"
   ]
  },
  {
   "cell_type": "code",
   "execution_count": null,
   "id": "beb9b3fc",
   "metadata": {},
   "outputs": [],
   "source": [
    "# TODO"
   ]
  },
  {
   "cell_type": "markdown",
   "id": "2573f2f4",
   "metadata": {
    "id": "2573f2f4"
   },
   "source": [
    "## Exercise: Image Retrieval from COCO Val2017 Dataset with Image"
   ]
  },
  {
   "cell_type": "code",
   "execution_count": null,
   "id": "f830cf7a",
   "metadata": {
    "colab": {
     "base_uri": "https://localhost:8080/",
     "height": 497
    },
    "id": "f830cf7a",
    "outputId": "ab3dcc14-d7e7-4f26-bab7-f75809c008db"
   },
   "outputs": [],
   "source": [
    "# TODO"
   ]
  },
  {
   "cell_type": "markdown",
   "id": "8cd1897c",
   "metadata": {
    "id": "8cd1897c"
   },
   "source": [
    "## Exercise: Finding Image for Latent Blending of Texts"
   ]
  },
  {
   "cell_type": "code",
   "execution_count": null,
   "id": "1252a4e6",
   "metadata": {
    "colab": {
     "base_uri": "https://localhost:8080/",
     "height": 497
    },
    "id": "1252a4e6",
    "outputId": "f649f297-ec53-4b96-e7a9-3b395c66ba02"
   },
   "outputs": [],
   "source": [
    "# TODO"
   ]
  },
  {
   "cell_type": "markdown",
   "id": "3dafc6cb",
   "metadata": {
    "id": "3dafc6cb"
   },
   "source": [
    "## Exercise: Finding Text for Latent Blending of Texts"
   ]
  },
  {
   "cell_type": "code",
   "execution_count": null,
   "id": "3ea754a3",
   "metadata": {
    "colab": {
     "base_uri": "https://localhost:8080/"
    },
    "id": "3ea754a3",
    "outputId": "939f507a-b21e-4125-b445-59a515196dad"
   },
   "outputs": [],
   "source": [
    "!wget https://www.dropbox.com/s/4dgs7e0r3ypaqus/just_captions.txt?dl=1 -O just_captions.txt"
   ]
  },
  {
   "cell_type": "code",
   "execution_count": null,
   "id": "7c00a3e3",
   "metadata": {
    "id": "7c00a3e3"
   },
   "outputs": [],
   "source": [
    "class MyTextDataset(Dataset):\n",
    "    \"\"\"\n",
    "    Makes it easy to interact with the downloaded dataset\n",
    "    \"\"\"\n",
    "    \n",
    "    def __init__(self, file):\n",
    "        with open(file, \"r\") as f:\n",
    "            self.lines = f.read().split(\"\\n\")\n",
    "        \n",
    "    def __len__(self):\n",
    "        return len(self.lines)\n",
    "    \n",
    "    def __getitem__(self, index):\n",
    "        return self.lines[index]"
   ]
  },
  {
   "cell_type": "code",
   "execution_count": null,
   "id": "f8e65c03",
   "metadata": {
    "id": "f8e65c03"
   },
   "outputs": [],
   "source": [
    "text_dataset = MyTextDataset(\"just_captions.txt\")"
   ]
  },
  {
   "cell_type": "code",
   "execution_count": null,
   "id": "3bd3d89f",
   "metadata": {},
   "outputs": [],
   "source": [
    "# TODO"
   ]
  },
  {
   "cell_type": "markdown",
   "id": "de3b8952",
   "metadata": {
    "id": "de3b8952"
   },
   "source": [
    "## Exercise: Finding Text for Latent Blending of Images"
   ]
  },
  {
   "cell_type": "code",
   "execution_count": null,
   "id": "d987e7c2",
   "metadata": {},
   "outputs": [],
   "source": [
    "# TODO"
   ]
  },
  {
   "cell_type": "markdown",
   "id": "d8b9100f",
   "metadata": {
    "id": "d8b9100f"
   },
   "source": [
    "## CLIP-Based Image Synthesis \n",
    "\n",
    "While *retrieval* has to do with returning matching images that are actually in the dataset, *synthesis* is rendering the embedding into a brand-new image. In 2021, some critical breakthroughs were made with the development of CLIP and diffusion models. Below, we will use diffusion-based decoder to render a prompt into an image and appreciate the beauty and power of the AI-generated art.\n",
    "\n",
    "### Load a Pre-Trained Diffusion Model (CLIP-Conditioned)"
   ]
  },
  {
   "cell_type": "code",
   "execution_count": null,
   "id": "19fe6172",
   "metadata": {
    "colab": {
     "base_uri": "https://localhost:8080/"
    },
    "id": "19fe6172",
    "outputId": "06c0a234-bf19-408d-dec5-ab473d4a243e",
    "scrolled": true
   },
   "outputs": [],
   "source": [
    "!wget https://v-diffusion.s3.us-west-2.amazonaws.com/cc12m_1_cfg.pth"
   ]
  },
  {
   "cell_type": "code",
   "execution_count": null,
   "id": "e9b68806",
   "metadata": {
    "colab": {
     "base_uri": "https://localhost:8080/"
    },
    "id": "e9b68806",
    "outputId": "b05acdf2-1910-44af-93f6-7563c25b6254",
    "scrolled": true
   },
   "outputs": [],
   "source": [
    "diffusion_model = get_model(\"cc12m_1_cfg\")()\n",
    "state_dict = torch.load(\"cc12m_1_cfg.pth\", map_location=\"cpu\")\n",
    "diffusion_model.load_state_dict(state_dict)\n",
    "if device.type == 'cuda':\n",
    "    diffusion_model = diffusion_model.half()\n",
    "diffusion_model.eval().requires_grad_(False).to(device)"
   ]
  },
  {
   "cell_type": "markdown",
   "id": "1fc97e8e",
   "metadata": {
    "id": "1fc97e8e"
   },
   "source": [
    "### Instantiate a Diffusion-Based Decoder"
   ]
  },
  {
   "cell_type": "code",
   "execution_count": null,
   "id": "9532b7e1",
   "metadata": {
    "id": "9532b7e1"
   },
   "outputs": [],
   "source": [
    "decoder = ClassifierFreeGuidanceDecoder(\n",
    "    diffusion_model=diffusion_model,\n",
    "    device=device,\n",
    "    n_steps=500\n",
    ")"
   ]
  },
  {
   "cell_type": "code",
   "execution_count": null,
   "id": "1ed962fd",
   "metadata": {
    "colab": {
     "base_uri": "https://localhost:8080/",
     "height": 305,
     "referenced_widgets": [
      "a70ddf72ddbc4dc7acd556eb40b990ae",
      "568dd11243f0444aa021c10c52291979",
      "ea5cc8bcb8d74512ad7915268b2ba716",
      "3e92def88732460a8c52c57460b7f90b",
      "6b03463b44af40169b71b835bb3224d8",
      "2c2c7b0c7b3c470d971668a16621a3d3",
      "0336516ee85c4474a8bb00d6d594e9fc",
      "f376871a206d434aa0694f2150ff056c",
      "d95c623f17384587ac0fc6a26bdbf11a",
      "c34b819128e44e6993d89e8a10e64c11",
      "c1721152d97b455bb051b6a141339d86"
     ]
    },
    "id": "1ed962fd",
    "outputId": "5b05dbae-b8f7-4431-e44d-7712c7a5f450",
    "scrolled": true
   },
   "outputs": [],
   "source": [
    "# Sensitive to random seed\n",
    "prompt = \"Two dogs of different breeds looking at each other on the road.\"\n",
    "prompt_embeddig = clip_text_encoder.encode(prompt)\n",
    "image = decoder.decode(prompt_embeddig)\n",
    "to_pil_image(image[0])"
   ]
  },
  {
   "cell_type": "markdown",
   "id": "85f964db",
   "metadata": {
    "id": "85f964db"
   },
   "source": [
    "The results don't look so good. Why would that be the case? Some possible explanations:\n",
    "\n",
    "1. The dataset used to pre-train the diffusion model did not have enough examples of dogs\n",
    "2. Our prompt did not emphasize how realistic the dogs must look\n",
    "\n",
    "Our particular CLIP-guided diffusion pipeline is not very suitable for realism. In December 2021, OpenAI released another CLIP-based image synthesis model named GLIDE (https://github.com/openai/glide-text2im), which addresses this bottleneck.\n",
    "\n",
    "However, our image synthesis is very powerful when it comes to generating art. See below:"
   ]
  },
  {
   "cell_type": "code",
   "execution_count": null,
   "id": "92d72f81",
   "metadata": {
    "colab": {
     "base_uri": "https://localhost:8080/",
     "height": 305,
     "referenced_widgets": [
      "f55cfceb9ef540258e832537cb0bc660",
      "0cc6dec264cf49c0b0379b03534327fc",
      "c09c94729a8544ed830e9ecd3ef3b6d1",
      "cc6e8e557aa54d71901605602b3fd133",
      "0612dc70fd13437084274879f5a9ce04",
      "bfc4d5a95ed140febbf6b48c3499e0c5",
      "09d87d3d2a20409abe25e18c7c02318c",
      "6f69d7ecd07e45509760f3890e053ccb",
      "1203600948564acc816f4e73bdef5d9d",
      "e8efca5ce23b4fb8a6fb107b516d99ba",
      "927a76a4f0624db6a584faf2f5d01e6a"
     ]
    },
    "id": "92d72f81",
    "outputId": "a9fc4761-cc66-4218-ce6c-91c73d0b40a0"
   },
   "outputs": [],
   "source": [
    "# Sensitive to random seed\n",
    "prompt = \"magical ruins at dawn. watercolor. by artists on artstation.\"\n",
    "prompt_embeddig = clip_text_encoder.encode(prompt)\n",
    "image = decoder.decode(prompt_embeddig)\n",
    "to_pil_image(image[0])"
   ]
  },
  {
   "cell_type": "markdown",
   "id": "5722bf84",
   "metadata": {
    "id": "5722bf84"
   },
   "source": [
    "## Exercise: Latent Blending of Prompts, Visualized via Image Synthesis"
   ]
  },
  {
   "cell_type": "code",
   "execution_count": null,
   "id": "d7554f8b",
   "metadata": {
    "id": "d7554f8b"
   },
   "outputs": [],
   "source": [
    "# TODO"
   ]
  }
 ],
 "metadata": {
  "accelerator": "GPU",
  "colab": {
   "name": "exercise-clip-guided-things-solutions.ipynb",
   "provenance": []
  },
  "kernelspec": {
   "display_name": "Python 3 (ipykernel)",
   "language": "python",
   "name": "python3"
  },
  "language_info": {
   "codemirror_mode": {
    "name": "ipython",
    "version": 3
   },
   "file_extension": ".py",
   "mimetype": "text/x-python",
   "name": "python",
   "nbconvert_exporter": "python",
   "pygments_lexer": "ipython3",
   "version": "3.7.11"
  },
  "widgets": {
   "application/vnd.jupyter.widget-state+json": {
    "00d7c3df7c094d878bbd1ac7b0a81e22": {
     "model_module": "@jupyter-widgets/base",
     "model_module_version": "1.2.0",
     "model_name": "LayoutModel",
     "state": {
      "_model_module": "@jupyter-widgets/base",
      "_model_module_version": "1.2.0",
      "_model_name": "LayoutModel",
      "_view_count": null,
      "_view_module": "@jupyter-widgets/base",
      "_view_module_version": "1.2.0",
      "_view_name": "LayoutView",
      "align_content": null,
      "align_items": null,
      "align_self": null,
      "border": null,
      "bottom": null,
      "display": null,
      "flex": null,
      "flex_flow": null,
      "grid_area": null,
      "grid_auto_columns": null,
      "grid_auto_flow": null,
      "grid_auto_rows": null,
      "grid_column": null,
      "grid_gap": null,
      "grid_row": null,
      "grid_template_areas": null,
      "grid_template_columns": null,
      "grid_template_rows": null,
      "height": null,
      "justify_content": null,
      "justify_items": null,
      "left": null,
      "margin": null,
      "max_height": null,
      "max_width": null,
      "min_height": null,
      "min_width": null,
      "object_fit": null,
      "object_position": null,
      "order": null,
      "overflow": null,
      "overflow_x": null,
      "overflow_y": null,
      "padding": null,
      "right": null,
      "top": null,
      "visibility": null,
      "width": null
     }
    },
    "0336516ee85c4474a8bb00d6d594e9fc": {
     "model_module": "@jupyter-widgets/base",
     "model_module_version": "1.2.0",
     "model_name": "LayoutModel",
     "state": {
      "_model_module": "@jupyter-widgets/base",
      "_model_module_version": "1.2.0",
      "_model_name": "LayoutModel",
      "_view_count": null,
      "_view_module": "@jupyter-widgets/base",
      "_view_module_version": "1.2.0",
      "_view_name": "LayoutView",
      "align_content": null,
      "align_items": null,
      "align_self": null,
      "border": null,
      "bottom": null,
      "display": null,
      "flex": null,
      "flex_flow": null,
      "grid_area": null,
      "grid_auto_columns": null,
      "grid_auto_flow": null,
      "grid_auto_rows": null,
      "grid_column": null,
      "grid_gap": null,
      "grid_row": null,
      "grid_template_areas": null,
      "grid_template_columns": null,
      "grid_template_rows": null,
      "height": null,
      "justify_content": null,
      "justify_items": null,
      "left": null,
      "margin": null,
      "max_height": null,
      "max_width": null,
      "min_height": null,
      "min_width": null,
      "object_fit": null,
      "object_position": null,
      "order": null,
      "overflow": null,
      "overflow_x": null,
      "overflow_y": null,
      "padding": null,
      "right": null,
      "top": null,
      "visibility": null,
      "width": null
     }
    },
    "0612dc70fd13437084274879f5a9ce04": {
     "model_module": "@jupyter-widgets/controls",
     "model_module_version": "1.5.0",
     "model_name": "HTMLModel",
     "state": {
      "_dom_classes": [],
      "_model_module": "@jupyter-widgets/controls",
      "_model_module_version": "1.5.0",
      "_model_name": "HTMLModel",
      "_view_count": null,
      "_view_module": "@jupyter-widgets/controls",
      "_view_module_version": "1.5.0",
      "_view_name": "HTMLView",
      "description": "",
      "description_tooltip": null,
      "layout": "IPY_MODEL_927a76a4f0624db6a584faf2f5d01e6a",
      "placeholder": "​",
      "style": "IPY_MODEL_e8efca5ce23b4fb8a6fb107b516d99ba",
      "value": " 500/500 [03:16&lt;00:00,  2.54it/s]"
     }
    },
    "066960f130f04ee6a6f08c4b456d6221": {
     "model_module": "@jupyter-widgets/base",
     "model_module_version": "1.2.0",
     "model_name": "LayoutModel",
     "state": {
      "_model_module": "@jupyter-widgets/base",
      "_model_module_version": "1.2.0",
      "_model_name": "LayoutModel",
      "_view_count": null,
      "_view_module": "@jupyter-widgets/base",
      "_view_module_version": "1.2.0",
      "_view_name": "LayoutView",
      "align_content": null,
      "align_items": null,
      "align_self": null,
      "border": null,
      "bottom": null,
      "display": null,
      "flex": null,
      "flex_flow": null,
      "grid_area": null,
      "grid_auto_columns": null,
      "grid_auto_flow": null,
      "grid_auto_rows": null,
      "grid_column": null,
      "grid_gap": null,
      "grid_row": null,
      "grid_template_areas": null,
      "grid_template_columns": null,
      "grid_template_rows": null,
      "height": null,
      "justify_content": null,
      "justify_items": null,
      "left": null,
      "margin": null,
      "max_height": null,
      "max_width": null,
      "min_height": null,
      "min_width": null,
      "object_fit": null,
      "object_position": null,
      "order": null,
      "overflow": null,
      "overflow_x": null,
      "overflow_y": null,
      "padding": null,
      "right": null,
      "top": null,
      "visibility": null,
      "width": null
     }
    },
    "09d87d3d2a20409abe25e18c7c02318c": {
     "model_module": "@jupyter-widgets/base",
     "model_module_version": "1.2.0",
     "model_name": "LayoutModel",
     "state": {
      "_model_module": "@jupyter-widgets/base",
      "_model_module_version": "1.2.0",
      "_model_name": "LayoutModel",
      "_view_count": null,
      "_view_module": "@jupyter-widgets/base",
      "_view_module_version": "1.2.0",
      "_view_name": "LayoutView",
      "align_content": null,
      "align_items": null,
      "align_self": null,
      "border": null,
      "bottom": null,
      "display": null,
      "flex": null,
      "flex_flow": null,
      "grid_area": null,
      "grid_auto_columns": null,
      "grid_auto_flow": null,
      "grid_auto_rows": null,
      "grid_column": null,
      "grid_gap": null,
      "grid_row": null,
      "grid_template_areas": null,
      "grid_template_columns": null,
      "grid_template_rows": null,
      "height": null,
      "justify_content": null,
      "justify_items": null,
      "left": null,
      "margin": null,
      "max_height": null,
      "max_width": null,
      "min_height": null,
      "min_width": null,
      "object_fit": null,
      "object_position": null,
      "order": null,
      "overflow": null,
      "overflow_x": null,
      "overflow_y": null,
      "padding": null,
      "right": null,
      "top": null,
      "visibility": null,
      "width": null
     }
    },
    "0cc6dec264cf49c0b0379b03534327fc": {
     "model_module": "@jupyter-widgets/base",
     "model_module_version": "1.2.0",
     "model_name": "LayoutModel",
     "state": {
      "_model_module": "@jupyter-widgets/base",
      "_model_module_version": "1.2.0",
      "_model_name": "LayoutModel",
      "_view_count": null,
      "_view_module": "@jupyter-widgets/base",
      "_view_module_version": "1.2.0",
      "_view_name": "LayoutView",
      "align_content": null,
      "align_items": null,
      "align_self": null,
      "border": null,
      "bottom": null,
      "display": null,
      "flex": null,
      "flex_flow": null,
      "grid_area": null,
      "grid_auto_columns": null,
      "grid_auto_flow": null,
      "grid_auto_rows": null,
      "grid_column": null,
      "grid_gap": null,
      "grid_row": null,
      "grid_template_areas": null,
      "grid_template_columns": null,
      "grid_template_rows": null,
      "height": null,
      "justify_content": null,
      "justify_items": null,
      "left": null,
      "margin": null,
      "max_height": null,
      "max_width": null,
      "min_height": null,
      "min_width": null,
      "object_fit": null,
      "object_position": null,
      "order": null,
      "overflow": null,
      "overflow_x": null,
      "overflow_y": null,
      "padding": null,
      "right": null,
      "top": null,
      "visibility": null,
      "width": null
     }
    },
    "1203600948564acc816f4e73bdef5d9d": {
     "model_module": "@jupyter-widgets/base",
     "model_module_version": "1.2.0",
     "model_name": "LayoutModel",
     "state": {
      "_model_module": "@jupyter-widgets/base",
      "_model_module_version": "1.2.0",
      "_model_name": "LayoutModel",
      "_view_count": null,
      "_view_module": "@jupyter-widgets/base",
      "_view_module_version": "1.2.0",
      "_view_name": "LayoutView",
      "align_content": null,
      "align_items": null,
      "align_self": null,
      "border": null,
      "bottom": null,
      "display": null,
      "flex": null,
      "flex_flow": null,
      "grid_area": null,
      "grid_auto_columns": null,
      "grid_auto_flow": null,
      "grid_auto_rows": null,
      "grid_column": null,
      "grid_gap": null,
      "grid_row": null,
      "grid_template_areas": null,
      "grid_template_columns": null,
      "grid_template_rows": null,
      "height": null,
      "justify_content": null,
      "justify_items": null,
      "left": null,
      "margin": null,
      "max_height": null,
      "max_width": null,
      "min_height": null,
      "min_width": null,
      "object_fit": null,
      "object_position": null,
      "order": null,
      "overflow": null,
      "overflow_x": null,
      "overflow_y": null,
      "padding": null,
      "right": null,
      "top": null,
      "visibility": null,
      "width": null
     }
    },
    "1393cc51c28749858f6416756162da27": {
     "model_module": "@jupyter-widgets/controls",
     "model_module_version": "1.5.0",
     "model_name": "HTMLModel",
     "state": {
      "_dom_classes": [],
      "_model_module": "@jupyter-widgets/controls",
      "_model_module_version": "1.5.0",
      "_model_name": "HTMLModel",
      "_view_count": null,
      "_view_module": "@jupyter-widgets/controls",
      "_view_module_version": "1.5.0",
      "_view_name": "HTMLView",
      "description": "",
      "description_tooltip": null,
      "layout": "IPY_MODEL_406429c31d6144bb9a647b68979f22f2",
      "placeholder": "​",
      "style": "IPY_MODEL_6c927283427744e584c72a4ef176975a",
      "value": "100%"
     }
    },
    "1e5fc9f12dc84938bd138f8659ba9712": {
     "model_module": "@jupyter-widgets/controls",
     "model_module_version": "1.5.0",
     "model_name": "HTMLModel",
     "state": {
      "_dom_classes": [],
      "_model_module": "@jupyter-widgets/controls",
      "_model_module_version": "1.5.0",
      "_model_name": "HTMLModel",
      "_view_count": null,
      "_view_module": "@jupyter-widgets/controls",
      "_view_module_version": "1.5.0",
      "_view_name": "HTMLView",
      "description": "",
      "description_tooltip": null,
      "layout": "IPY_MODEL_f1e73add311e4f7d881e61f05fc1b0d8",
      "placeholder": "​",
      "style": "IPY_MODEL_221c93b3f66a4a7db1b3fa0931c79b95",
      "value": " 500/500 [03:16&lt;00:00,  2.54it/s]"
     }
    },
    "221c93b3f66a4a7db1b3fa0931c79b95": {
     "model_module": "@jupyter-widgets/controls",
     "model_module_version": "1.5.0",
     "model_name": "DescriptionStyleModel",
     "state": {
      "_model_module": "@jupyter-widgets/controls",
      "_model_module_version": "1.5.0",
      "_model_name": "DescriptionStyleModel",
      "_view_count": null,
      "_view_module": "@jupyter-widgets/base",
      "_view_module_version": "1.2.0",
      "_view_name": "StyleView",
      "description_width": ""
     }
    },
    "24813e0aead941678ebd492121c0770c": {
     "model_module": "@jupyter-widgets/base",
     "model_module_version": "1.2.0",
     "model_name": "LayoutModel",
     "state": {
      "_model_module": "@jupyter-widgets/base",
      "_model_module_version": "1.2.0",
      "_model_name": "LayoutModel",
      "_view_count": null,
      "_view_module": "@jupyter-widgets/base",
      "_view_module_version": "1.2.0",
      "_view_name": "LayoutView",
      "align_content": null,
      "align_items": null,
      "align_self": null,
      "border": null,
      "bottom": null,
      "display": null,
      "flex": null,
      "flex_flow": null,
      "grid_area": null,
      "grid_auto_columns": null,
      "grid_auto_flow": null,
      "grid_auto_rows": null,
      "grid_column": null,
      "grid_gap": null,
      "grid_row": null,
      "grid_template_areas": null,
      "grid_template_columns": null,
      "grid_template_rows": null,
      "height": null,
      "justify_content": null,
      "justify_items": null,
      "left": null,
      "margin": null,
      "max_height": null,
      "max_width": null,
      "min_height": null,
      "min_width": null,
      "object_fit": null,
      "object_position": null,
      "order": null,
      "overflow": null,
      "overflow_x": null,
      "overflow_y": null,
      "padding": null,
      "right": null,
      "top": null,
      "visibility": null,
      "width": null
     }
    },
    "2c2c7b0c7b3c470d971668a16621a3d3": {
     "model_module": "@jupyter-widgets/controls",
     "model_module_version": "1.5.0",
     "model_name": "DescriptionStyleModel",
     "state": {
      "_model_module": "@jupyter-widgets/controls",
      "_model_module_version": "1.5.0",
      "_model_name": "DescriptionStyleModel",
      "_view_count": null,
      "_view_module": "@jupyter-widgets/base",
      "_view_module_version": "1.2.0",
      "_view_name": "StyleView",
      "description_width": ""
     }
    },
    "2f917bec49f94f4e80d537bb4a65b9b4": {
     "model_module": "@jupyter-widgets/base",
     "model_module_version": "1.2.0",
     "model_name": "LayoutModel",
     "state": {
      "_model_module": "@jupyter-widgets/base",
      "_model_module_version": "1.2.0",
      "_model_name": "LayoutModel",
      "_view_count": null,
      "_view_module": "@jupyter-widgets/base",
      "_view_module_version": "1.2.0",
      "_view_name": "LayoutView",
      "align_content": null,
      "align_items": null,
      "align_self": null,
      "border": null,
      "bottom": null,
      "display": null,
      "flex": null,
      "flex_flow": null,
      "grid_area": null,
      "grid_auto_columns": null,
      "grid_auto_flow": null,
      "grid_auto_rows": null,
      "grid_column": null,
      "grid_gap": null,
      "grid_row": null,
      "grid_template_areas": null,
      "grid_template_columns": null,
      "grid_template_rows": null,
      "height": null,
      "justify_content": null,
      "justify_items": null,
      "left": null,
      "margin": null,
      "max_height": null,
      "max_width": null,
      "min_height": null,
      "min_width": null,
      "object_fit": null,
      "object_position": null,
      "order": null,
      "overflow": null,
      "overflow_x": null,
      "overflow_y": null,
      "padding": null,
      "right": null,
      "top": null,
      "visibility": null,
      "width": null
     }
    },
    "35494394f6534ff1a64d2b925fd82419": {
     "model_module": "@jupyter-widgets/controls",
     "model_module_version": "1.5.0",
     "model_name": "FloatProgressModel",
     "state": {
      "_dom_classes": [],
      "_model_module": "@jupyter-widgets/controls",
      "_model_module_version": "1.5.0",
      "_model_name": "FloatProgressModel",
      "_view_count": null,
      "_view_module": "@jupyter-widgets/controls",
      "_view_module_version": "1.5.0",
      "_view_name": "ProgressView",
      "bar_style": "success",
      "description": "",
      "description_tooltip": null,
      "layout": "IPY_MODEL_385571b6379a4d4abf0e8aed792ca6cb",
      "max": 40457,
      "min": 0,
      "orientation": "horizontal",
      "style": "IPY_MODEL_874aff98b02c4551a60e6415c300147f",
      "value": 40457
     }
    },
    "357cbc32150f4d6f8cf8d7d31cacf125": {
     "model_module": "@jupyter-widgets/controls",
     "model_module_version": "1.5.0",
     "model_name": "HTMLModel",
     "state": {
      "_dom_classes": [],
      "_model_module": "@jupyter-widgets/controls",
      "_model_module_version": "1.5.0",
      "_model_name": "HTMLModel",
      "_view_count": null,
      "_view_module": "@jupyter-widgets/controls",
      "_view_module_version": "1.5.0",
      "_view_name": "HTMLView",
      "description": "",
      "description_tooltip": null,
      "layout": "IPY_MODEL_c6903186527b4645a0470e314af5c090",
      "placeholder": "​",
      "style": "IPY_MODEL_3eadc4e4821746b8ab147abae4ea8236",
      "value": " 40457/40457 [06:06&lt;00:00, 111.27it/s]"
     }
    },
    "385571b6379a4d4abf0e8aed792ca6cb": {
     "model_module": "@jupyter-widgets/base",
     "model_module_version": "1.2.0",
     "model_name": "LayoutModel",
     "state": {
      "_model_module": "@jupyter-widgets/base",
      "_model_module_version": "1.2.0",
      "_model_name": "LayoutModel",
      "_view_count": null,
      "_view_module": "@jupyter-widgets/base",
      "_view_module_version": "1.2.0",
      "_view_name": "LayoutView",
      "align_content": null,
      "align_items": null,
      "align_self": null,
      "border": null,
      "bottom": null,
      "display": null,
      "flex": null,
      "flex_flow": null,
      "grid_area": null,
      "grid_auto_columns": null,
      "grid_auto_flow": null,
      "grid_auto_rows": null,
      "grid_column": null,
      "grid_gap": null,
      "grid_row": null,
      "grid_template_areas": null,
      "grid_template_columns": null,
      "grid_template_rows": null,
      "height": null,
      "justify_content": null,
      "justify_items": null,
      "left": null,
      "margin": null,
      "max_height": null,
      "max_width": null,
      "min_height": null,
      "min_width": null,
      "object_fit": null,
      "object_position": null,
      "order": null,
      "overflow": null,
      "overflow_x": null,
      "overflow_y": null,
      "padding": null,
      "right": null,
      "top": null,
      "visibility": null,
      "width": null
     }
    },
    "3b57079521f34a8a9966a017b991eaea": {
     "model_module": "@jupyter-widgets/base",
     "model_module_version": "1.2.0",
     "model_name": "LayoutModel",
     "state": {
      "_model_module": "@jupyter-widgets/base",
      "_model_module_version": "1.2.0",
      "_model_name": "LayoutModel",
      "_view_count": null,
      "_view_module": "@jupyter-widgets/base",
      "_view_module_version": "1.2.0",
      "_view_name": "LayoutView",
      "align_content": null,
      "align_items": null,
      "align_self": null,
      "border": null,
      "bottom": null,
      "display": null,
      "flex": null,
      "flex_flow": null,
      "grid_area": null,
      "grid_auto_columns": null,
      "grid_auto_flow": null,
      "grid_auto_rows": null,
      "grid_column": null,
      "grid_gap": null,
      "grid_row": null,
      "grid_template_areas": null,
      "grid_template_columns": null,
      "grid_template_rows": null,
      "height": null,
      "justify_content": null,
      "justify_items": null,
      "left": null,
      "margin": null,
      "max_height": null,
      "max_width": null,
      "min_height": null,
      "min_width": null,
      "object_fit": null,
      "object_position": null,
      "order": null,
      "overflow": null,
      "overflow_x": null,
      "overflow_y": null,
      "padding": null,
      "right": null,
      "top": null,
      "visibility": null,
      "width": null
     }
    },
    "3e92def88732460a8c52c57460b7f90b": {
     "model_module": "@jupyter-widgets/controls",
     "model_module_version": "1.5.0",
     "model_name": "FloatProgressModel",
     "state": {
      "_dom_classes": [],
      "_model_module": "@jupyter-widgets/controls",
      "_model_module_version": "1.5.0",
      "_model_name": "FloatProgressModel",
      "_view_count": null,
      "_view_module": "@jupyter-widgets/controls",
      "_view_module_version": "1.5.0",
      "_view_name": "ProgressView",
      "bar_style": "success",
      "description": "",
      "description_tooltip": null,
      "layout": "IPY_MODEL_d95c623f17384587ac0fc6a26bdbf11a",
      "max": 500,
      "min": 0,
      "orientation": "horizontal",
      "style": "IPY_MODEL_f376871a206d434aa0694f2150ff056c",
      "value": 500
     }
    },
    "3eadc4e4821746b8ab147abae4ea8236": {
     "model_module": "@jupyter-widgets/controls",
     "model_module_version": "1.5.0",
     "model_name": "DescriptionStyleModel",
     "state": {
      "_model_module": "@jupyter-widgets/controls",
      "_model_module_version": "1.5.0",
      "_model_name": "DescriptionStyleModel",
      "_view_count": null,
      "_view_module": "@jupyter-widgets/base",
      "_view_module_version": "1.2.0",
      "_view_name": "StyleView",
      "description_width": ""
     }
    },
    "406429c31d6144bb9a647b68979f22f2": {
     "model_module": "@jupyter-widgets/base",
     "model_module_version": "1.2.0",
     "model_name": "LayoutModel",
     "state": {
      "_model_module": "@jupyter-widgets/base",
      "_model_module_version": "1.2.0",
      "_model_name": "LayoutModel",
      "_view_count": null,
      "_view_module": "@jupyter-widgets/base",
      "_view_module_version": "1.2.0",
      "_view_name": "LayoutView",
      "align_content": null,
      "align_items": null,
      "align_self": null,
      "border": null,
      "bottom": null,
      "display": null,
      "flex": null,
      "flex_flow": null,
      "grid_area": null,
      "grid_auto_columns": null,
      "grid_auto_flow": null,
      "grid_auto_rows": null,
      "grid_column": null,
      "grid_gap": null,
      "grid_row": null,
      "grid_template_areas": null,
      "grid_template_columns": null,
      "grid_template_rows": null,
      "height": null,
      "justify_content": null,
      "justify_items": null,
      "left": null,
      "margin": null,
      "max_height": null,
      "max_width": null,
      "min_height": null,
      "min_width": null,
      "object_fit": null,
      "object_position": null,
      "order": null,
      "overflow": null,
      "overflow_x": null,
      "overflow_y": null,
      "padding": null,
      "right": null,
      "top": null,
      "visibility": null,
      "width": null
     }
    },
    "4a2fcd8b95d34079acd6a3035d93368f": {
     "model_module": "@jupyter-widgets/base",
     "model_module_version": "1.2.0",
     "model_name": "LayoutModel",
     "state": {
      "_model_module": "@jupyter-widgets/base",
      "_model_module_version": "1.2.0",
      "_model_name": "LayoutModel",
      "_view_count": null,
      "_view_module": "@jupyter-widgets/base",
      "_view_module_version": "1.2.0",
      "_view_name": "LayoutView",
      "align_content": null,
      "align_items": null,
      "align_self": null,
      "border": null,
      "bottom": null,
      "display": null,
      "flex": null,
      "flex_flow": null,
      "grid_area": null,
      "grid_auto_columns": null,
      "grid_auto_flow": null,
      "grid_auto_rows": null,
      "grid_column": null,
      "grid_gap": null,
      "grid_row": null,
      "grid_template_areas": null,
      "grid_template_columns": null,
      "grid_template_rows": null,
      "height": null,
      "justify_content": null,
      "justify_items": null,
      "left": null,
      "margin": null,
      "max_height": null,
      "max_width": null,
      "min_height": null,
      "min_width": null,
      "object_fit": null,
      "object_position": null,
      "order": null,
      "overflow": null,
      "overflow_x": null,
      "overflow_y": null,
      "padding": null,
      "right": null,
      "top": null,
      "visibility": null,
      "width": null
     }
    },
    "4e9409005d9b4f518474e6b9fc0ba312": {
     "model_module": "@jupyter-widgets/base",
     "model_module_version": "1.2.0",
     "model_name": "LayoutModel",
     "state": {
      "_model_module": "@jupyter-widgets/base",
      "_model_module_version": "1.2.0",
      "_model_name": "LayoutModel",
      "_view_count": null,
      "_view_module": "@jupyter-widgets/base",
      "_view_module_version": "1.2.0",
      "_view_name": "LayoutView",
      "align_content": null,
      "align_items": null,
      "align_self": null,
      "border": null,
      "bottom": null,
      "display": null,
      "flex": null,
      "flex_flow": null,
      "grid_area": null,
      "grid_auto_columns": null,
      "grid_auto_flow": null,
      "grid_auto_rows": null,
      "grid_column": null,
      "grid_gap": null,
      "grid_row": null,
      "grid_template_areas": null,
      "grid_template_columns": null,
      "grid_template_rows": null,
      "height": null,
      "justify_content": null,
      "justify_items": null,
      "left": null,
      "margin": null,
      "max_height": null,
      "max_width": null,
      "min_height": null,
      "min_width": null,
      "object_fit": null,
      "object_position": null,
      "order": null,
      "overflow": null,
      "overflow_x": null,
      "overflow_y": null,
      "padding": null,
      "right": null,
      "top": null,
      "visibility": null,
      "width": null
     }
    },
    "4f68fc77d94848d3a990b5d9b278fe38": {
     "model_module": "@jupyter-widgets/base",
     "model_module_version": "1.2.0",
     "model_name": "LayoutModel",
     "state": {
      "_model_module": "@jupyter-widgets/base",
      "_model_module_version": "1.2.0",
      "_model_name": "LayoutModel",
      "_view_count": null,
      "_view_module": "@jupyter-widgets/base",
      "_view_module_version": "1.2.0",
      "_view_name": "LayoutView",
      "align_content": null,
      "align_items": null,
      "align_self": null,
      "border": null,
      "bottom": null,
      "display": null,
      "flex": null,
      "flex_flow": null,
      "grid_area": null,
      "grid_auto_columns": null,
      "grid_auto_flow": null,
      "grid_auto_rows": null,
      "grid_column": null,
      "grid_gap": null,
      "grid_row": null,
      "grid_template_areas": null,
      "grid_template_columns": null,
      "grid_template_rows": null,
      "height": null,
      "justify_content": null,
      "justify_items": null,
      "left": null,
      "margin": null,
      "max_height": null,
      "max_width": null,
      "min_height": null,
      "min_width": null,
      "object_fit": null,
      "object_position": null,
      "order": null,
      "overflow": null,
      "overflow_x": null,
      "overflow_y": null,
      "padding": null,
      "right": null,
      "top": null,
      "visibility": null,
      "width": null
     }
    },
    "50add4a4f16247c08d8eb3eba196165b": {
     "model_module": "@jupyter-widgets/base",
     "model_module_version": "1.2.0",
     "model_name": "LayoutModel",
     "state": {
      "_model_module": "@jupyter-widgets/base",
      "_model_module_version": "1.2.0",
      "_model_name": "LayoutModel",
      "_view_count": null,
      "_view_module": "@jupyter-widgets/base",
      "_view_module_version": "1.2.0",
      "_view_name": "LayoutView",
      "align_content": null,
      "align_items": null,
      "align_self": null,
      "border": null,
      "bottom": null,
      "display": null,
      "flex": null,
      "flex_flow": null,
      "grid_area": null,
      "grid_auto_columns": null,
      "grid_auto_flow": null,
      "grid_auto_rows": null,
      "grid_column": null,
      "grid_gap": null,
      "grid_row": null,
      "grid_template_areas": null,
      "grid_template_columns": null,
      "grid_template_rows": null,
      "height": null,
      "justify_content": null,
      "justify_items": null,
      "left": null,
      "margin": null,
      "max_height": null,
      "max_width": null,
      "min_height": null,
      "min_width": null,
      "object_fit": null,
      "object_position": null,
      "order": null,
      "overflow": null,
      "overflow_x": null,
      "overflow_y": null,
      "padding": null,
      "right": null,
      "top": null,
      "visibility": null,
      "width": null
     }
    },
    "5271bc54e8f949028a0d7398f12206fd": {
     "model_module": "@jupyter-widgets/controls",
     "model_module_version": "1.5.0",
     "model_name": "DescriptionStyleModel",
     "state": {
      "_model_module": "@jupyter-widgets/controls",
      "_model_module_version": "1.5.0",
      "_model_name": "DescriptionStyleModel",
      "_view_count": null,
      "_view_module": "@jupyter-widgets/base",
      "_view_module_version": "1.2.0",
      "_view_name": "StyleView",
      "description_width": ""
     }
    },
    "568dd11243f0444aa021c10c52291979": {
     "model_module": "@jupyter-widgets/base",
     "model_module_version": "1.2.0",
     "model_name": "LayoutModel",
     "state": {
      "_model_module": "@jupyter-widgets/base",
      "_model_module_version": "1.2.0",
      "_model_name": "LayoutModel",
      "_view_count": null,
      "_view_module": "@jupyter-widgets/base",
      "_view_module_version": "1.2.0",
      "_view_name": "LayoutView",
      "align_content": null,
      "align_items": null,
      "align_self": null,
      "border": null,
      "bottom": null,
      "display": null,
      "flex": null,
      "flex_flow": null,
      "grid_area": null,
      "grid_auto_columns": null,
      "grid_auto_flow": null,
      "grid_auto_rows": null,
      "grid_column": null,
      "grid_gap": null,
      "grid_row": null,
      "grid_template_areas": null,
      "grid_template_columns": null,
      "grid_template_rows": null,
      "height": null,
      "justify_content": null,
      "justify_items": null,
      "left": null,
      "margin": null,
      "max_height": null,
      "max_width": null,
      "min_height": null,
      "min_width": null,
      "object_fit": null,
      "object_position": null,
      "order": null,
      "overflow": null,
      "overflow_x": null,
      "overflow_y": null,
      "padding": null,
      "right": null,
      "top": null,
      "visibility": null,
      "width": null
     }
    },
    "59ae29cb38fe411382e27037b779dfae": {
     "model_module": "@jupyter-widgets/controls",
     "model_module_version": "1.5.0",
     "model_name": "FloatProgressModel",
     "state": {
      "_dom_classes": [],
      "_model_module": "@jupyter-widgets/controls",
      "_model_module_version": "1.5.0",
      "_model_name": "FloatProgressModel",
      "_view_count": null,
      "_view_module": "@jupyter-widgets/controls",
      "_view_module_version": "1.5.0",
      "_view_name": "ProgressView",
      "bar_style": "success",
      "description": "",
      "description_tooltip": null,
      "layout": "IPY_MODEL_24813e0aead941678ebd492121c0770c",
      "max": 500,
      "min": 0,
      "orientation": "horizontal",
      "style": "IPY_MODEL_a71cabbe60054bedb1802ae8af0eb8b3",
      "value": 500
     }
    },
    "5d6d3705ac9541a7b1d482da0733f60c": {
     "model_module": "@jupyter-widgets/controls",
     "model_module_version": "1.5.0",
     "model_name": "DescriptionStyleModel",
     "state": {
      "_model_module": "@jupyter-widgets/controls",
      "_model_module_version": "1.5.0",
      "_model_name": "DescriptionStyleModel",
      "_view_count": null,
      "_view_module": "@jupyter-widgets/base",
      "_view_module_version": "1.2.0",
      "_view_name": "StyleView",
      "description_width": ""
     }
    },
    "6b03463b44af40169b71b835bb3224d8": {
     "model_module": "@jupyter-widgets/controls",
     "model_module_version": "1.5.0",
     "model_name": "HTMLModel",
     "state": {
      "_dom_classes": [],
      "_model_module": "@jupyter-widgets/controls",
      "_model_module_version": "1.5.0",
      "_model_name": "HTMLModel",
      "_view_count": null,
      "_view_module": "@jupyter-widgets/controls",
      "_view_module_version": "1.5.0",
      "_view_name": "HTMLView",
      "description": "",
      "description_tooltip": null,
      "layout": "IPY_MODEL_c1721152d97b455bb051b6a141339d86",
      "placeholder": "​",
      "style": "IPY_MODEL_c34b819128e44e6993d89e8a10e64c11",
      "value": " 500/500 [03:16&lt;00:00,  2.54it/s]"
     }
    },
    "6c927283427744e584c72a4ef176975a": {
     "model_module": "@jupyter-widgets/controls",
     "model_module_version": "1.5.0",
     "model_name": "DescriptionStyleModel",
     "state": {
      "_model_module": "@jupyter-widgets/controls",
      "_model_module_version": "1.5.0",
      "_model_name": "DescriptionStyleModel",
      "_view_count": null,
      "_view_module": "@jupyter-widgets/base",
      "_view_module_version": "1.2.0",
      "_view_name": "StyleView",
      "description_width": ""
     }
    },
    "6d34bdda396449eaa8fce52f526fc82e": {
     "model_module": "@jupyter-widgets/controls",
     "model_module_version": "1.5.0",
     "model_name": "HTMLModel",
     "state": {
      "_dom_classes": [],
      "_model_module": "@jupyter-widgets/controls",
      "_model_module_version": "1.5.0",
      "_model_name": "HTMLModel",
      "_view_count": null,
      "_view_module": "@jupyter-widgets/controls",
      "_view_module_version": "1.5.0",
      "_view_name": "HTMLView",
      "description": "",
      "description_tooltip": null,
      "layout": "IPY_MODEL_4a2fcd8b95d34079acd6a3035d93368f",
      "placeholder": "​",
      "style": "IPY_MODEL_6d72297a3abb46ccb1b9ba867cd08cb4",
      "value": "100%"
     }
    },
    "6d72297a3abb46ccb1b9ba867cd08cb4": {
     "model_module": "@jupyter-widgets/controls",
     "model_module_version": "1.5.0",
     "model_name": "DescriptionStyleModel",
     "state": {
      "_model_module": "@jupyter-widgets/controls",
      "_model_module_version": "1.5.0",
      "_model_name": "DescriptionStyleModel",
      "_view_count": null,
      "_view_module": "@jupyter-widgets/base",
      "_view_module_version": "1.2.0",
      "_view_name": "StyleView",
      "description_width": ""
     }
    },
    "6f69d7ecd07e45509760f3890e053ccb": {
     "model_module": "@jupyter-widgets/controls",
     "model_module_version": "1.5.0",
     "model_name": "ProgressStyleModel",
     "state": {
      "_model_module": "@jupyter-widgets/controls",
      "_model_module_version": "1.5.0",
      "_model_name": "ProgressStyleModel",
      "_view_count": null,
      "_view_module": "@jupyter-widgets/base",
      "_view_module_version": "1.2.0",
      "_view_name": "StyleView",
      "bar_color": null,
      "description_width": ""
     }
    },
    "723bca681007495b88883bf6dedf483f": {
     "model_module": "@jupyter-widgets/controls",
     "model_module_version": "1.5.0",
     "model_name": "FloatProgressModel",
     "state": {
      "_dom_classes": [],
      "_model_module": "@jupyter-widgets/controls",
      "_model_module_version": "1.5.0",
      "_model_name": "FloatProgressModel",
      "_view_count": null,
      "_view_module": "@jupyter-widgets/controls",
      "_view_module_version": "1.5.0",
      "_view_name": "ProgressView",
      "bar_style": "success",
      "description": "",
      "description_tooltip": null,
      "layout": "IPY_MODEL_3b57079521f34a8a9966a017b991eaea",
      "max": 500,
      "min": 0,
      "orientation": "horizontal",
      "style": "IPY_MODEL_b1b21d001aaa4c26899b0d2173e6e9cd",
      "value": 500
     }
    },
    "82e7844a8b2241a9ba5895bd75ba908f": {
     "model_module": "@jupyter-widgets/base",
     "model_module_version": "1.2.0",
     "model_name": "LayoutModel",
     "state": {
      "_model_module": "@jupyter-widgets/base",
      "_model_module_version": "1.2.0",
      "_model_name": "LayoutModel",
      "_view_count": null,
      "_view_module": "@jupyter-widgets/base",
      "_view_module_version": "1.2.0",
      "_view_name": "LayoutView",
      "align_content": null,
      "align_items": null,
      "align_self": null,
      "border": null,
      "bottom": null,
      "display": null,
      "flex": null,
      "flex_flow": null,
      "grid_area": null,
      "grid_auto_columns": null,
      "grid_auto_flow": null,
      "grid_auto_rows": null,
      "grid_column": null,
      "grid_gap": null,
      "grid_row": null,
      "grid_template_areas": null,
      "grid_template_columns": null,
      "grid_template_rows": null,
      "height": null,
      "justify_content": null,
      "justify_items": null,
      "left": null,
      "margin": null,
      "max_height": null,
      "max_width": null,
      "min_height": null,
      "min_width": null,
      "object_fit": null,
      "object_position": null,
      "order": null,
      "overflow": null,
      "overflow_x": null,
      "overflow_y": null,
      "padding": null,
      "right": null,
      "top": null,
      "visibility": null,
      "width": null
     }
    },
    "83581569966d41e3bd6511e83a88837b": {
     "model_module": "@jupyter-widgets/controls",
     "model_module_version": "1.5.0",
     "model_name": "HTMLModel",
     "state": {
      "_dom_classes": [],
      "_model_module": "@jupyter-widgets/controls",
      "_model_module_version": "1.5.0",
      "_model_name": "HTMLModel",
      "_view_count": null,
      "_view_module": "@jupyter-widgets/controls",
      "_view_module_version": "1.5.0",
      "_view_name": "HTMLView",
      "description": "",
      "description_tooltip": null,
      "layout": "IPY_MODEL_f0ca472d899e43c781db897e4c651f09",
      "placeholder": "​",
      "style": "IPY_MODEL_f94b92d022a74483a44f9852fbee52b3",
      "value": "100%"
     }
    },
    "874aff98b02c4551a60e6415c300147f": {
     "model_module": "@jupyter-widgets/controls",
     "model_module_version": "1.5.0",
     "model_name": "ProgressStyleModel",
     "state": {
      "_model_module": "@jupyter-widgets/controls",
      "_model_module_version": "1.5.0",
      "_model_name": "ProgressStyleModel",
      "_view_count": null,
      "_view_module": "@jupyter-widgets/base",
      "_view_module_version": "1.2.0",
      "_view_name": "StyleView",
      "bar_color": null,
      "description_width": ""
     }
    },
    "8f8c086648934f2ab8f0ae0fe0593e6e": {
     "model_module": "@jupyter-widgets/controls",
     "model_module_version": "1.5.0",
     "model_name": "HBoxModel",
     "state": {
      "_dom_classes": [],
      "_model_module": "@jupyter-widgets/controls",
      "_model_module_version": "1.5.0",
      "_model_name": "HBoxModel",
      "_view_count": null,
      "_view_module": "@jupyter-widgets/controls",
      "_view_module_version": "1.5.0",
      "_view_name": "HBoxView",
      "box_style": "",
      "children": [
       "IPY_MODEL_cbca4d3d663f4dbc94c09f8984c9f89f",
       "IPY_MODEL_35494394f6534ff1a64d2b925fd82419",
       "IPY_MODEL_357cbc32150f4d6f8cf8d7d31cacf125"
      ],
      "layout": "IPY_MODEL_82e7844a8b2241a9ba5895bd75ba908f"
     }
    },
    "927a346d0b8246c48f8ceab4cb628f91": {
     "model_module": "@jupyter-widgets/controls",
     "model_module_version": "1.5.0",
     "model_name": "FloatProgressModel",
     "state": {
      "_dom_classes": [],
      "_model_module": "@jupyter-widgets/controls",
      "_model_module_version": "1.5.0",
      "_model_name": "FloatProgressModel",
      "_view_count": null,
      "_view_module": "@jupyter-widgets/controls",
      "_view_module_version": "1.5.0",
      "_view_name": "ProgressView",
      "bar_style": "success",
      "description": "",
      "description_tooltip": null,
      "layout": "IPY_MODEL_066960f130f04ee6a6f08c4b456d6221",
      "max": 5000,
      "min": 0,
      "orientation": "horizontal",
      "style": "IPY_MODEL_9ef4d7fa3e77499ea074b531a0adc9bb",
      "value": 5000
     }
    },
    "927a76a4f0624db6a584faf2f5d01e6a": {
     "model_module": "@jupyter-widgets/base",
     "model_module_version": "1.2.0",
     "model_name": "LayoutModel",
     "state": {
      "_model_module": "@jupyter-widgets/base",
      "_model_module_version": "1.2.0",
      "_model_name": "LayoutModel",
      "_view_count": null,
      "_view_module": "@jupyter-widgets/base",
      "_view_module_version": "1.2.0",
      "_view_name": "LayoutView",
      "align_content": null,
      "align_items": null,
      "align_self": null,
      "border": null,
      "bottom": null,
      "display": null,
      "flex": null,
      "flex_flow": null,
      "grid_area": null,
      "grid_auto_columns": null,
      "grid_auto_flow": null,
      "grid_auto_rows": null,
      "grid_column": null,
      "grid_gap": null,
      "grid_row": null,
      "grid_template_areas": null,
      "grid_template_columns": null,
      "grid_template_rows": null,
      "height": null,
      "justify_content": null,
      "justify_items": null,
      "left": null,
      "margin": null,
      "max_height": null,
      "max_width": null,
      "min_height": null,
      "min_width": null,
      "object_fit": null,
      "object_position": null,
      "order": null,
      "overflow": null,
      "overflow_x": null,
      "overflow_y": null,
      "padding": null,
      "right": null,
      "top": null,
      "visibility": null,
      "width": null
     }
    },
    "9ef4d7fa3e77499ea074b531a0adc9bb": {
     "model_module": "@jupyter-widgets/controls",
     "model_module_version": "1.5.0",
     "model_name": "ProgressStyleModel",
     "state": {
      "_model_module": "@jupyter-widgets/controls",
      "_model_module_version": "1.5.0",
      "_model_name": "ProgressStyleModel",
      "_view_count": null,
      "_view_module": "@jupyter-widgets/base",
      "_view_module_version": "1.2.0",
      "_view_name": "StyleView",
      "bar_color": null,
      "description_width": ""
     }
    },
    "a70ddf72ddbc4dc7acd556eb40b990ae": {
     "model_module": "@jupyter-widgets/controls",
     "model_module_version": "1.5.0",
     "model_name": "HBoxModel",
     "state": {
      "_dom_classes": [],
      "_model_module": "@jupyter-widgets/controls",
      "_model_module_version": "1.5.0",
      "_model_name": "HBoxModel",
      "_view_count": null,
      "_view_module": "@jupyter-widgets/controls",
      "_view_module_version": "1.5.0",
      "_view_name": "HBoxView",
      "box_style": "",
      "children": [
       "IPY_MODEL_ea5cc8bcb8d74512ad7915268b2ba716",
       "IPY_MODEL_3e92def88732460a8c52c57460b7f90b",
       "IPY_MODEL_6b03463b44af40169b71b835bb3224d8"
      ],
      "layout": "IPY_MODEL_568dd11243f0444aa021c10c52291979"
     }
    },
    "a71cabbe60054bedb1802ae8af0eb8b3": {
     "model_module": "@jupyter-widgets/controls",
     "model_module_version": "1.5.0",
     "model_name": "ProgressStyleModel",
     "state": {
      "_model_module": "@jupyter-widgets/controls",
      "_model_module_version": "1.5.0",
      "_model_name": "ProgressStyleModel",
      "_view_count": null,
      "_view_module": "@jupyter-widgets/base",
      "_view_module_version": "1.2.0",
      "_view_name": "StyleView",
      "bar_color": null,
      "description_width": ""
     }
    },
    "b1b21d001aaa4c26899b0d2173e6e9cd": {
     "model_module": "@jupyter-widgets/controls",
     "model_module_version": "1.5.0",
     "model_name": "ProgressStyleModel",
     "state": {
      "_model_module": "@jupyter-widgets/controls",
      "_model_module_version": "1.5.0",
      "_model_name": "ProgressStyleModel",
      "_view_count": null,
      "_view_module": "@jupyter-widgets/base",
      "_view_module_version": "1.2.0",
      "_view_name": "StyleView",
      "bar_color": null,
      "description_width": ""
     }
    },
    "bfc4d5a95ed140febbf6b48c3499e0c5": {
     "model_module": "@jupyter-widgets/controls",
     "model_module_version": "1.5.0",
     "model_name": "DescriptionStyleModel",
     "state": {
      "_model_module": "@jupyter-widgets/controls",
      "_model_module_version": "1.5.0",
      "_model_name": "DescriptionStyleModel",
      "_view_count": null,
      "_view_module": "@jupyter-widgets/base",
      "_view_module_version": "1.2.0",
      "_view_name": "StyleView",
      "description_width": ""
     }
    },
    "c09c94729a8544ed830e9ecd3ef3b6d1": {
     "model_module": "@jupyter-widgets/controls",
     "model_module_version": "1.5.0",
     "model_name": "HTMLModel",
     "state": {
      "_dom_classes": [],
      "_model_module": "@jupyter-widgets/controls",
      "_model_module_version": "1.5.0",
      "_model_name": "HTMLModel",
      "_view_count": null,
      "_view_module": "@jupyter-widgets/controls",
      "_view_module_version": "1.5.0",
      "_view_name": "HTMLView",
      "description": "",
      "description_tooltip": null,
      "layout": "IPY_MODEL_09d87d3d2a20409abe25e18c7c02318c",
      "placeholder": "​",
      "style": "IPY_MODEL_bfc4d5a95ed140febbf6b48c3499e0c5",
      "value": "100%"
     }
    },
    "c1721152d97b455bb051b6a141339d86": {
     "model_module": "@jupyter-widgets/base",
     "model_module_version": "1.2.0",
     "model_name": "LayoutModel",
     "state": {
      "_model_module": "@jupyter-widgets/base",
      "_model_module_version": "1.2.0",
      "_model_name": "LayoutModel",
      "_view_count": null,
      "_view_module": "@jupyter-widgets/base",
      "_view_module_version": "1.2.0",
      "_view_name": "LayoutView",
      "align_content": null,
      "align_items": null,
      "align_self": null,
      "border": null,
      "bottom": null,
      "display": null,
      "flex": null,
      "flex_flow": null,
      "grid_area": null,
      "grid_auto_columns": null,
      "grid_auto_flow": null,
      "grid_auto_rows": null,
      "grid_column": null,
      "grid_gap": null,
      "grid_row": null,
      "grid_template_areas": null,
      "grid_template_columns": null,
      "grid_template_rows": null,
      "height": null,
      "justify_content": null,
      "justify_items": null,
      "left": null,
      "margin": null,
      "max_height": null,
      "max_width": null,
      "min_height": null,
      "min_width": null,
      "object_fit": null,
      "object_position": null,
      "order": null,
      "overflow": null,
      "overflow_x": null,
      "overflow_y": null,
      "padding": null,
      "right": null,
      "top": null,
      "visibility": null,
      "width": null
     }
    },
    "c34b819128e44e6993d89e8a10e64c11": {
     "model_module": "@jupyter-widgets/controls",
     "model_module_version": "1.5.0",
     "model_name": "DescriptionStyleModel",
     "state": {
      "_model_module": "@jupyter-widgets/controls",
      "_model_module_version": "1.5.0",
      "_model_name": "DescriptionStyleModel",
      "_view_count": null,
      "_view_module": "@jupyter-widgets/base",
      "_view_module_version": "1.2.0",
      "_view_name": "StyleView",
      "description_width": ""
     }
    },
    "c6903186527b4645a0470e314af5c090": {
     "model_module": "@jupyter-widgets/base",
     "model_module_version": "1.2.0",
     "model_name": "LayoutModel",
     "state": {
      "_model_module": "@jupyter-widgets/base",
      "_model_module_version": "1.2.0",
      "_model_name": "LayoutModel",
      "_view_count": null,
      "_view_module": "@jupyter-widgets/base",
      "_view_module_version": "1.2.0",
      "_view_name": "LayoutView",
      "align_content": null,
      "align_items": null,
      "align_self": null,
      "border": null,
      "bottom": null,
      "display": null,
      "flex": null,
      "flex_flow": null,
      "grid_area": null,
      "grid_auto_columns": null,
      "grid_auto_flow": null,
      "grid_auto_rows": null,
      "grid_column": null,
      "grid_gap": null,
      "grid_row": null,
      "grid_template_areas": null,
      "grid_template_columns": null,
      "grid_template_rows": null,
      "height": null,
      "justify_content": null,
      "justify_items": null,
      "left": null,
      "margin": null,
      "max_height": null,
      "max_width": null,
      "min_height": null,
      "min_width": null,
      "object_fit": null,
      "object_position": null,
      "order": null,
      "overflow": null,
      "overflow_x": null,
      "overflow_y": null,
      "padding": null,
      "right": null,
      "top": null,
      "visibility": null,
      "width": null
     }
    },
    "cbca4d3d663f4dbc94c09f8984c9f89f": {
     "model_module": "@jupyter-widgets/controls",
     "model_module_version": "1.5.0",
     "model_name": "HTMLModel",
     "state": {
      "_dom_classes": [],
      "_model_module": "@jupyter-widgets/controls",
      "_model_module_version": "1.5.0",
      "_model_name": "HTMLModel",
      "_view_count": null,
      "_view_module": "@jupyter-widgets/controls",
      "_view_module_version": "1.5.0",
      "_view_name": "HTMLView",
      "description": "",
      "description_tooltip": null,
      "layout": "IPY_MODEL_2f917bec49f94f4e80d537bb4a65b9b4",
      "placeholder": "​",
      "style": "IPY_MODEL_5d6d3705ac9541a7b1d482da0733f60c",
      "value": "100%"
     }
    },
    "cbf1bffe3efd48dfbf22ea1a02389a7e": {
     "model_module": "@jupyter-widgets/base",
     "model_module_version": "1.2.0",
     "model_name": "LayoutModel",
     "state": {
      "_model_module": "@jupyter-widgets/base",
      "_model_module_version": "1.2.0",
      "_model_name": "LayoutModel",
      "_view_count": null,
      "_view_module": "@jupyter-widgets/base",
      "_view_module_version": "1.2.0",
      "_view_name": "LayoutView",
      "align_content": null,
      "align_items": null,
      "align_self": null,
      "border": null,
      "bottom": null,
      "display": null,
      "flex": null,
      "flex_flow": null,
      "grid_area": null,
      "grid_auto_columns": null,
      "grid_auto_flow": null,
      "grid_auto_rows": null,
      "grid_column": null,
      "grid_gap": null,
      "grid_row": null,
      "grid_template_areas": null,
      "grid_template_columns": null,
      "grid_template_rows": null,
      "height": null,
      "justify_content": null,
      "justify_items": null,
      "left": null,
      "margin": null,
      "max_height": null,
      "max_width": null,
      "min_height": null,
      "min_width": null,
      "object_fit": null,
      "object_position": null,
      "order": null,
      "overflow": null,
      "overflow_x": null,
      "overflow_y": null,
      "padding": null,
      "right": null,
      "top": null,
      "visibility": null,
      "width": null
     }
    },
    "cc6e8e557aa54d71901605602b3fd133": {
     "model_module": "@jupyter-widgets/controls",
     "model_module_version": "1.5.0",
     "model_name": "FloatProgressModel",
     "state": {
      "_dom_classes": [],
      "_model_module": "@jupyter-widgets/controls",
      "_model_module_version": "1.5.0",
      "_model_name": "FloatProgressModel",
      "_view_count": null,
      "_view_module": "@jupyter-widgets/controls",
      "_view_module_version": "1.5.0",
      "_view_name": "ProgressView",
      "bar_style": "success",
      "description": "",
      "description_tooltip": null,
      "layout": "IPY_MODEL_1203600948564acc816f4e73bdef5d9d",
      "max": 500,
      "min": 0,
      "orientation": "horizontal",
      "style": "IPY_MODEL_6f69d7ecd07e45509760f3890e053ccb",
      "value": 500
     }
    },
    "d95c623f17384587ac0fc6a26bdbf11a": {
     "model_module": "@jupyter-widgets/base",
     "model_module_version": "1.2.0",
     "model_name": "LayoutModel",
     "state": {
      "_model_module": "@jupyter-widgets/base",
      "_model_module_version": "1.2.0",
      "_model_name": "LayoutModel",
      "_view_count": null,
      "_view_module": "@jupyter-widgets/base",
      "_view_module_version": "1.2.0",
      "_view_name": "LayoutView",
      "align_content": null,
      "align_items": null,
      "align_self": null,
      "border": null,
      "bottom": null,
      "display": null,
      "flex": null,
      "flex_flow": null,
      "grid_area": null,
      "grid_auto_columns": null,
      "grid_auto_flow": null,
      "grid_auto_rows": null,
      "grid_column": null,
      "grid_gap": null,
      "grid_row": null,
      "grid_template_areas": null,
      "grid_template_columns": null,
      "grid_template_rows": null,
      "height": null,
      "justify_content": null,
      "justify_items": null,
      "left": null,
      "margin": null,
      "max_height": null,
      "max_width": null,
      "min_height": null,
      "min_width": null,
      "object_fit": null,
      "object_position": null,
      "order": null,
      "overflow": null,
      "overflow_x": null,
      "overflow_y": null,
      "padding": null,
      "right": null,
      "top": null,
      "visibility": null,
      "width": null
     }
    },
    "e0995acaee2e44c388c53e0ea4375c8a": {
     "model_module": "@jupyter-widgets/controls",
     "model_module_version": "1.5.0",
     "model_name": "DescriptionStyleModel",
     "state": {
      "_model_module": "@jupyter-widgets/controls",
      "_model_module_version": "1.5.0",
      "_model_name": "DescriptionStyleModel",
      "_view_count": null,
      "_view_module": "@jupyter-widgets/base",
      "_view_module_version": "1.2.0",
      "_view_name": "StyleView",
      "description_width": ""
     }
    },
    "e39b37c045574c78b1fca831efe4bcd2": {
     "model_module": "@jupyter-widgets/controls",
     "model_module_version": "1.5.0",
     "model_name": "HBoxModel",
     "state": {
      "_dom_classes": [],
      "_model_module": "@jupyter-widgets/controls",
      "_model_module_version": "1.5.0",
      "_model_name": "HBoxModel",
      "_view_count": null,
      "_view_module": "@jupyter-widgets/controls",
      "_view_module_version": "1.5.0",
      "_view_name": "HBoxView",
      "box_style": "",
      "children": [
       "IPY_MODEL_1393cc51c28749858f6416756162da27",
       "IPY_MODEL_59ae29cb38fe411382e27037b779dfae",
       "IPY_MODEL_e87d58fb2d574171bd47fb2424a8b74c"
      ],
      "layout": "IPY_MODEL_00d7c3df7c094d878bbd1ac7b0a81e22"
     }
    },
    "e87d58fb2d574171bd47fb2424a8b74c": {
     "model_module": "@jupyter-widgets/controls",
     "model_module_version": "1.5.0",
     "model_name": "HTMLModel",
     "state": {
      "_dom_classes": [],
      "_model_module": "@jupyter-widgets/controls",
      "_model_module_version": "1.5.0",
      "_model_name": "HTMLModel",
      "_view_count": null,
      "_view_module": "@jupyter-widgets/controls",
      "_view_module_version": "1.5.0",
      "_view_name": "HTMLView",
      "description": "",
      "description_tooltip": null,
      "layout": "IPY_MODEL_4f68fc77d94848d3a990b5d9b278fe38",
      "placeholder": "​",
      "style": "IPY_MODEL_e0995acaee2e44c388c53e0ea4375c8a",
      "value": " 500/500 [03:16&lt;00:00,  2.54it/s]"
     }
    },
    "e8efca5ce23b4fb8a6fb107b516d99ba": {
     "model_module": "@jupyter-widgets/controls",
     "model_module_version": "1.5.0",
     "model_name": "DescriptionStyleModel",
     "state": {
      "_model_module": "@jupyter-widgets/controls",
      "_model_module_version": "1.5.0",
      "_model_name": "DescriptionStyleModel",
      "_view_count": null,
      "_view_module": "@jupyter-widgets/base",
      "_view_module_version": "1.2.0",
      "_view_name": "StyleView",
      "description_width": ""
     }
    },
    "ea5cc8bcb8d74512ad7915268b2ba716": {
     "model_module": "@jupyter-widgets/controls",
     "model_module_version": "1.5.0",
     "model_name": "HTMLModel",
     "state": {
      "_dom_classes": [],
      "_model_module": "@jupyter-widgets/controls",
      "_model_module_version": "1.5.0",
      "_model_name": "HTMLModel",
      "_view_count": null,
      "_view_module": "@jupyter-widgets/controls",
      "_view_module_version": "1.5.0",
      "_view_name": "HTMLView",
      "description": "",
      "description_tooltip": null,
      "layout": "IPY_MODEL_0336516ee85c4474a8bb00d6d594e9fc",
      "placeholder": "​",
      "style": "IPY_MODEL_2c2c7b0c7b3c470d971668a16621a3d3",
      "value": "100%"
     }
    },
    "f08e1f7f6aa8468eaf4dcf9e320debad": {
     "model_module": "@jupyter-widgets/controls",
     "model_module_version": "1.5.0",
     "model_name": "HBoxModel",
     "state": {
      "_dom_classes": [],
      "_model_module": "@jupyter-widgets/controls",
      "_model_module_version": "1.5.0",
      "_model_name": "HBoxModel",
      "_view_count": null,
      "_view_module": "@jupyter-widgets/controls",
      "_view_module_version": "1.5.0",
      "_view_name": "HBoxView",
      "box_style": "",
      "children": [
       "IPY_MODEL_6d34bdda396449eaa8fce52f526fc82e",
       "IPY_MODEL_723bca681007495b88883bf6dedf483f",
       "IPY_MODEL_1e5fc9f12dc84938bd138f8659ba9712"
      ],
      "layout": "IPY_MODEL_4e9409005d9b4f518474e6b9fc0ba312"
     }
    },
    "f0ca472d899e43c781db897e4c651f09": {
     "model_module": "@jupyter-widgets/base",
     "model_module_version": "1.2.0",
     "model_name": "LayoutModel",
     "state": {
      "_model_module": "@jupyter-widgets/base",
      "_model_module_version": "1.2.0",
      "_model_name": "LayoutModel",
      "_view_count": null,
      "_view_module": "@jupyter-widgets/base",
      "_view_module_version": "1.2.0",
      "_view_name": "LayoutView",
      "align_content": null,
      "align_items": null,
      "align_self": null,
      "border": null,
      "bottom": null,
      "display": null,
      "flex": null,
      "flex_flow": null,
      "grid_area": null,
      "grid_auto_columns": null,
      "grid_auto_flow": null,
      "grid_auto_rows": null,
      "grid_column": null,
      "grid_gap": null,
      "grid_row": null,
      "grid_template_areas": null,
      "grid_template_columns": null,
      "grid_template_rows": null,
      "height": null,
      "justify_content": null,
      "justify_items": null,
      "left": null,
      "margin": null,
      "max_height": null,
      "max_width": null,
      "min_height": null,
      "min_width": null,
      "object_fit": null,
      "object_position": null,
      "order": null,
      "overflow": null,
      "overflow_x": null,
      "overflow_y": null,
      "padding": null,
      "right": null,
      "top": null,
      "visibility": null,
      "width": null
     }
    },
    "f1e73add311e4f7d881e61f05fc1b0d8": {
     "model_module": "@jupyter-widgets/base",
     "model_module_version": "1.2.0",
     "model_name": "LayoutModel",
     "state": {
      "_model_module": "@jupyter-widgets/base",
      "_model_module_version": "1.2.0",
      "_model_name": "LayoutModel",
      "_view_count": null,
      "_view_module": "@jupyter-widgets/base",
      "_view_module_version": "1.2.0",
      "_view_name": "LayoutView",
      "align_content": null,
      "align_items": null,
      "align_self": null,
      "border": null,
      "bottom": null,
      "display": null,
      "flex": null,
      "flex_flow": null,
      "grid_area": null,
      "grid_auto_columns": null,
      "grid_auto_flow": null,
      "grid_auto_rows": null,
      "grid_column": null,
      "grid_gap": null,
      "grid_row": null,
      "grid_template_areas": null,
      "grid_template_columns": null,
      "grid_template_rows": null,
      "height": null,
      "justify_content": null,
      "justify_items": null,
      "left": null,
      "margin": null,
      "max_height": null,
      "max_width": null,
      "min_height": null,
      "min_width": null,
      "object_fit": null,
      "object_position": null,
      "order": null,
      "overflow": null,
      "overflow_x": null,
      "overflow_y": null,
      "padding": null,
      "right": null,
      "top": null,
      "visibility": null,
      "width": null
     }
    },
    "f376871a206d434aa0694f2150ff056c": {
     "model_module": "@jupyter-widgets/controls",
     "model_module_version": "1.5.0",
     "model_name": "ProgressStyleModel",
     "state": {
      "_model_module": "@jupyter-widgets/controls",
      "_model_module_version": "1.5.0",
      "_model_name": "ProgressStyleModel",
      "_view_count": null,
      "_view_module": "@jupyter-widgets/base",
      "_view_module_version": "1.2.0",
      "_view_name": "StyleView",
      "bar_color": null,
      "description_width": ""
     }
    },
    "f55cfceb9ef540258e832537cb0bc660": {
     "model_module": "@jupyter-widgets/controls",
     "model_module_version": "1.5.0",
     "model_name": "HBoxModel",
     "state": {
      "_dom_classes": [],
      "_model_module": "@jupyter-widgets/controls",
      "_model_module_version": "1.5.0",
      "_model_name": "HBoxModel",
      "_view_count": null,
      "_view_module": "@jupyter-widgets/controls",
      "_view_module_version": "1.5.0",
      "_view_name": "HBoxView",
      "box_style": "",
      "children": [
       "IPY_MODEL_c09c94729a8544ed830e9ecd3ef3b6d1",
       "IPY_MODEL_cc6e8e557aa54d71901605602b3fd133",
       "IPY_MODEL_0612dc70fd13437084274879f5a9ce04"
      ],
      "layout": "IPY_MODEL_0cc6dec264cf49c0b0379b03534327fc"
     }
    },
    "f94b92d022a74483a44f9852fbee52b3": {
     "model_module": "@jupyter-widgets/controls",
     "model_module_version": "1.5.0",
     "model_name": "DescriptionStyleModel",
     "state": {
      "_model_module": "@jupyter-widgets/controls",
      "_model_module_version": "1.5.0",
      "_model_name": "DescriptionStyleModel",
      "_view_count": null,
      "_view_module": "@jupyter-widgets/base",
      "_view_module_version": "1.2.0",
      "_view_name": "StyleView",
      "description_width": ""
     }
    },
    "f9cd4a3782154fb89537d58a32c4d172": {
     "model_module": "@jupyter-widgets/controls",
     "model_module_version": "1.5.0",
     "model_name": "HTMLModel",
     "state": {
      "_dom_classes": [],
      "_model_module": "@jupyter-widgets/controls",
      "_model_module_version": "1.5.0",
      "_model_name": "HTMLModel",
      "_view_count": null,
      "_view_module": "@jupyter-widgets/controls",
      "_view_module_version": "1.5.0",
      "_view_name": "HTMLView",
      "description": "",
      "description_tooltip": null,
      "layout": "IPY_MODEL_cbf1bffe3efd48dfbf22ea1a02389a7e",
      "placeholder": "​",
      "style": "IPY_MODEL_5271bc54e8f949028a0d7398f12206fd",
      "value": " 5000/5000 [06:40&lt;00:00, 12.33it/s]"
     }
    },
    "fa6eeaa71a61436e919d92704c9042ff": {
     "model_module": "@jupyter-widgets/controls",
     "model_module_version": "1.5.0",
     "model_name": "HBoxModel",
     "state": {
      "_dom_classes": [],
      "_model_module": "@jupyter-widgets/controls",
      "_model_module_version": "1.5.0",
      "_model_name": "HBoxModel",
      "_view_count": null,
      "_view_module": "@jupyter-widgets/controls",
      "_view_module_version": "1.5.0",
      "_view_name": "HBoxView",
      "box_style": "",
      "children": [
       "IPY_MODEL_83581569966d41e3bd6511e83a88837b",
       "IPY_MODEL_927a346d0b8246c48f8ceab4cb628f91",
       "IPY_MODEL_f9cd4a3782154fb89537d58a32c4d172"
      ],
      "layout": "IPY_MODEL_50add4a4f16247c08d8eb3eba196165b"
     }
    }
   }
  }
 },
 "nbformat": 4,
 "nbformat_minor": 5
}
