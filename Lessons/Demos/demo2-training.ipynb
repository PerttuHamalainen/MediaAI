{
 "cells": [
  {
   "cell_type": "markdown",
   "id": "04af485a",
   "metadata": {},
   "source": [
    "# Demo 2: Training a Neural Network\n",
    "\n",
    "* Using PyTorch\n",
    "* Expected time: 5 minutes\n",
    "\n",
    "\n",
    "Let's recall together what we need to train a NN:\n",
    "* NN\n",
    "* Input/output representation\n",
    "* Data\n",
    "* Differentiable programming\n",
    "* Loss function\n",
    "* Optimization algorithm"
   ]
  },
  {
   "cell_type": "code",
   "execution_count": 23,
   "id": "a7407771",
   "metadata": {},
   "outputs": [
    {
     "data": {
      "text/plain": [
       "<torch._C.Generator at 0x7fc1141a5550>"
      ]
     },
     "execution_count": 23,
     "metadata": {},
     "output_type": "execute_result"
    }
   ],
   "source": [
    "import torch\n",
    "import torch.nn as nn\n",
    "import numpy as np\n",
    "import matplotlib.pyplot as plt\n",
    "from torch.utils.data import DataLoader, Subset\n",
    "from torchvision.datasets import MNIST\n",
    "from tqdm import tqdm\n",
    "from typing import List\n",
    "torch.manual_seed(0)  # for reproducibility"
   ]
  },
  {
   "cell_type": "markdown",
   "id": "fc4220d0",
   "metadata": {},
   "source": [
    "## Step 1: Data\n",
    "\n",
    "For this demo, we will use the MNIST digit classification data."
   ]
  },
  {
   "cell_type": "code",
   "execution_count": 24,
   "id": "38cccd5c",
   "metadata": {
    "scrolled": true
   },
   "outputs": [],
   "source": [
    "dataset = MNIST(\"mnist\", download=True)"
   ]
  },
  {
   "cell_type": "markdown",
   "id": "a82971a0",
   "metadata": {},
   "source": [
    "It's always a good idea to visualize and analyze the data to gain some understanding of what's going on."
   ]
  },
  {
   "cell_type": "code",
   "execution_count": 25,
   "id": "bf7bc9ab",
   "metadata": {},
   "outputs": [
    {
     "data": {
      "text/plain": [
       "60000"
      ]
     },
     "execution_count": 25,
     "metadata": {},
     "output_type": "execute_result"
    }
   ],
   "source": [
    "# How many images are there in the dataset?\n",
    "len(dataset)"
   ]
  },
  {
   "cell_type": "code",
   "execution_count": 26,
   "id": "b19621b6",
   "metadata": {},
   "outputs": [
    {
     "data": {
      "text/plain": [
       "(<PIL.Image.Image image mode=L size=28x28 at 0x7FC027E25150>, 5)"
      ]
     },
     "execution_count": 26,
     "metadata": {},
     "output_type": "execute_result"
    }
   ],
   "source": [
    "# What is the format of the data?\n",
    "dataset[0]"
   ]
  },
  {
   "cell_type": "markdown",
   "id": "cddbf1dd",
   "metadata": {},
   "source": [
    "It's a tuple of two elements. In Python, it's easy enough to unpack:"
   ]
  },
  {
   "cell_type": "code",
   "execution_count": 27,
   "id": "a643e5f1",
   "metadata": {},
   "outputs": [],
   "source": [
    "input, label = dataset[0]"
   ]
  },
  {
   "cell_type": "code",
   "execution_count": 28,
   "id": "c99c3850",
   "metadata": {
    "scrolled": true
   },
   "outputs": [
    {
     "name": "stdout",
     "output_type": "stream",
     "text": [
      "[[  0   0   0   0   0   0   0   0   0   0   0   0   0   0   0   0   0   0\n",
      "    0   0   0   0   0   0   0   0   0   0]\n",
      " [  0   0   0   0   0   0   0   0   0   0   0   0   0   0   0   0   0   0\n",
      "    0   0   0   0   0   0   0   0   0   0]\n",
      " [  0   0   0   0   0   0   0   0   0   0   0   0   0   0   0   0   0   0\n",
      "    0   0   0   0   0   0   0   0   0   0]\n",
      " [  0   0   0   0   0   0   0   0   0   0   0   0   0   0   0   0   0   0\n",
      "    0   0   0   0   0   0   0   0   0   0]\n",
      " [  0   0   0   0   0   0   0   0   0   0   0   0   0   0   0   0   0   0\n",
      "    0   0   0   0   0   0   0   0   0   0]\n",
      " [  0   0   0   0   0   0   0   0   0   0   0   0   3  18  18  18 126 136\n",
      "  175  26 166 255 247 127   0   0   0   0]\n",
      " [  0   0   0   0   0   0   0   0  30  36  94 154 170 253 253 253 253 253\n",
      "  225 172 253 242 195  64   0   0   0   0]\n",
      " [  0   0   0   0   0   0   0  49 238 253 253 253 253 253 253 253 253 251\n",
      "   93  82  82  56  39   0   0   0   0   0]\n",
      " [  0   0   0   0   0   0   0  18 219 253 253 253 253 253 198 182 247 241\n",
      "    0   0   0   0   0   0   0   0   0   0]\n",
      " [  0   0   0   0   0   0   0   0  80 156 107 253 253 205  11   0  43 154\n",
      "    0   0   0   0   0   0   0   0   0   0]\n",
      " [  0   0   0   0   0   0   0   0   0  14   1 154 253  90   0   0   0   0\n",
      "    0   0   0   0   0   0   0   0   0   0]\n",
      " [  0   0   0   0   0   0   0   0   0   0   0 139 253 190   2   0   0   0\n",
      "    0   0   0   0   0   0   0   0   0   0]\n",
      " [  0   0   0   0   0   0   0   0   0   0   0  11 190 253  70   0   0   0\n",
      "    0   0   0   0   0   0   0   0   0   0]\n",
      " [  0   0   0   0   0   0   0   0   0   0   0   0  35 241 225 160 108   1\n",
      "    0   0   0   0   0   0   0   0   0   0]\n",
      " [  0   0   0   0   0   0   0   0   0   0   0   0   0  81 240 253 253 119\n",
      "   25   0   0   0   0   0   0   0   0   0]\n",
      " [  0   0   0   0   0   0   0   0   0   0   0   0   0   0  45 186 253 253\n",
      "  150  27   0   0   0   0   0   0   0   0]\n",
      " [  0   0   0   0   0   0   0   0   0   0   0   0   0   0   0  16  93 252\n",
      "  253 187   0   0   0   0   0   0   0   0]\n",
      " [  0   0   0   0   0   0   0   0   0   0   0   0   0   0   0   0   0 249\n",
      "  253 249  64   0   0   0   0   0   0   0]\n",
      " [  0   0   0   0   0   0   0   0   0   0   0   0   0   0  46 130 183 253\n",
      "  253 207   2   0   0   0   0   0   0   0]\n",
      " [  0   0   0   0   0   0   0   0   0   0   0   0  39 148 229 253 253 253\n",
      "  250 182   0   0   0   0   0   0   0   0]\n",
      " [  0   0   0   0   0   0   0   0   0   0  24 114 221 253 253 253 253 201\n",
      "   78   0   0   0   0   0   0   0   0   0]\n",
      " [  0   0   0   0   0   0   0   0  23  66 213 253 253 253 253 198  81   2\n",
      "    0   0   0   0   0   0   0   0   0   0]\n",
      " [  0   0   0   0   0   0  18 171 219 253 253 253 253 195  80   9   0   0\n",
      "    0   0   0   0   0   0   0   0   0   0]\n",
      " [  0   0   0   0  55 172 226 253 253 253 253 244 133  11   0   0   0   0\n",
      "    0   0   0   0   0   0   0   0   0   0]\n",
      " [  0   0   0   0 136 253 253 253 212 135 132  16   0   0   0   0   0   0\n",
      "    0   0   0   0   0   0   0   0   0   0]\n",
      " [  0   0   0   0   0   0   0   0   0   0   0   0   0   0   0   0   0   0\n",
      "    0   0   0   0   0   0   0   0   0   0]\n",
      " [  0   0   0   0   0   0   0   0   0   0   0   0   0   0   0   0   0   0\n",
      "    0   0   0   0   0   0   0   0   0   0]\n",
      " [  0   0   0   0   0   0   0   0   0   0   0   0   0   0   0   0   0   0\n",
      "    0   0   0   0   0   0   0   0   0   0]]\n",
      "(28, 28)\n"
     ]
    }
   ],
   "source": [
    "# What does each \"example\" look like?\n",
    "print(np.array(input))\n",
    "print(np.array(input).shape)"
   ]
  },
  {
   "cell_type": "code",
   "execution_count": 29,
   "id": "4a5e9a20",
   "metadata": {},
   "outputs": [
    {
     "data": {
      "image/png": "[encoded data removed]",
      "text/plain": [
       "<Figure size 432x288 with 1 Axes>"
      ]
     },
     "metadata": {
      "needs_background": "light"
     },
     "output_type": "display_data"
    }
   ],
   "source": [
    "plt.figure()\n",
    "plt.title(f\"label: {label}\")\n",
    "plt.imshow(np.array(input), cmap=\"gray\")\n",
    "plt.show()"
   ]
  },
  {
   "cell_type": "markdown",
   "id": "4d9b3e0f",
   "metadata": {},
   "source": [
    "Aha, the handwriting of the digit \"5\" corresponds to the label \"5\", so we have 60000 grayscale images whose sizes are 28x28 and the corresponding numerical labels."
   ]
  },
  {
   "cell_type": "markdown",
   "id": "8cfa284f",
   "metadata": {},
   "source": [
    "## Step 2: Input/Output Representation"
   ]
  },
  {
   "cell_type": "markdown",
   "id": "803ceabe",
   "metadata": {},
   "source": [
    "For our model to process the image, it's more convenient to \"flatten\" the images to be a long vector instead of a 28x28 matrix."
   ]
  },
  {
   "cell_type": "code",
   "execution_count": 30,
   "id": "c1a890e0",
   "metadata": {
    "scrolled": true
   },
   "outputs": [],
   "source": [
    "input_reshaped = np.array(input).reshape(-1)"
   ]
  },
  {
   "cell_type": "code",
   "execution_count": 31,
   "id": "de32e17c",
   "metadata": {},
   "outputs": [
    {
     "name": "stdout",
     "output_type": "stream",
     "text": [
      "[  0   0   0   0   0   0   0   0   0   0   0   0   0   0   0   0   0   0\n",
      "   0   0   0   0   0   0   0   0   0   0   0   0   0   0   0   0   0   0\n",
      "   0   0   0   0   0   0   0   0   0   0   0   0   0   0   0   0   0   0\n",
      "   0   0   0   0   0   0   0   0   0   0   0   0   0   0   0   0   0   0\n",
      "   0   0   0   0   0   0   0   0   0   0   0   0   0   0   0   0   0   0\n",
      "   0   0   0   0   0   0   0   0   0   0   0   0   0   0   0   0   0   0\n",
      "   0   0   0   0   0   0   0   0   0   0   0   0   0   0   0   0   0   0\n",
      "   0   0   0   0   0   0   0   0   0   0   0   0   0   0   0   0   0   0\n",
      "   0   0   0   0   0   0   0   0   3  18  18  18 126 136 175  26 166 255\n",
      " 247 127   0   0   0   0   0   0   0   0   0   0   0   0  30  36  94 154\n",
      " 170 253 253 253 253 253 225 172 253 242 195  64   0   0   0   0   0   0\n",
      "   0   0   0   0   0  49 238 253 253 253 253 253 253 253 253 251  93  82\n",
      "  82  56  39   0   0   0   0   0   0   0   0   0   0   0   0  18 219 253\n",
      " 253 253 253 253 198 182 247 241   0   0   0   0   0   0   0   0   0   0\n",
      "   0   0   0   0   0   0   0   0  80 156 107 253 253 205  11   0  43 154\n",
      "   0   0   0   0   0   0   0   0   0   0   0   0   0   0   0   0   0   0\n",
      "   0  14   1 154 253  90   0   0   0   0   0   0   0   0   0   0   0   0\n",
      "   0   0   0   0   0   0   0   0   0   0   0   0   0 139 253 190   2   0\n",
      "   0   0   0   0   0   0   0   0   0   0   0   0   0   0   0   0   0   0\n",
      "   0   0   0   0   0  11 190 253  70   0   0   0   0   0   0   0   0   0\n",
      "   0   0   0   0   0   0   0   0   0   0   0   0   0   0   0   0  35 241\n",
      " 225 160 108   1   0   0   0   0   0   0   0   0   0   0   0   0   0   0\n",
      "   0   0   0   0   0   0   0   0   0  81 240 253 253 119  25   0   0   0\n",
      "   0   0   0   0   0   0   0   0   0   0   0   0   0   0   0   0   0   0\n",
      "   0   0  45 186 253 253 150  27   0   0   0   0   0   0   0   0   0   0\n",
      "   0   0   0   0   0   0   0   0   0   0   0   0   0  16  93 252 253 187\n",
      "   0   0   0   0   0   0   0   0   0   0   0   0   0   0   0   0   0   0\n",
      "   0   0   0   0   0   0   0 249 253 249  64   0   0   0   0   0   0   0\n",
      "   0   0   0   0   0   0   0   0   0   0   0   0   0   0  46 130 183 253\n",
      " 253 207   2   0   0   0   0   0   0   0   0   0   0   0   0   0   0   0\n",
      "   0   0   0   0  39 148 229 253 253 253 250 182   0   0   0   0   0   0\n",
      "   0   0   0   0   0   0   0   0   0   0   0   0  24 114 221 253 253 253\n",
      " 253 201  78   0   0   0   0   0   0   0   0   0   0   0   0   0   0   0\n",
      "   0   0  23  66 213 253 253 253 253 198  81   2   0   0   0   0   0   0\n",
      "   0   0   0   0   0   0   0   0   0   0  18 171 219 253 253 253 253 195\n",
      "  80   9   0   0   0   0   0   0   0   0   0   0   0   0   0   0   0   0\n",
      "  55 172 226 253 253 253 253 244 133  11   0   0   0   0   0   0   0   0\n",
      "   0   0   0   0   0   0   0   0   0   0 136 253 253 253 212 135 132  16\n",
      "   0   0   0   0   0   0   0   0   0   0   0   0   0   0   0   0   0   0\n",
      "   0   0   0   0   0   0   0   0   0   0   0   0   0   0   0   0   0   0\n",
      "   0   0   0   0   0   0   0   0   0   0   0   0   0   0   0   0   0   0\n",
      "   0   0   0   0   0   0   0   0   0   0   0   0   0   0   0   0   0   0\n",
      "   0   0   0   0   0   0   0   0   0   0   0   0   0   0   0   0   0   0\n",
      "   0   0   0   0   0   0   0   0   0   0]\n",
      "(784,)\n"
     ]
    }
   ],
   "source": [
    "print(input_reshaped)\n",
    "print(input_reshaped.shape)"
   ]
  },
  {
   "cell_type": "markdown",
   "id": "27487668",
   "metadata": {},
   "source": [
    "So instead of 28x28 images, we are working with 784-dimensional vectors. (28x28 = 784)\n",
    "\n",
    "As for the output representation, remember that we had 1000-dimensional output for our ImageNet demo earlier. Now, we have the digit classification problem, meaning...\n",
    "\n",
    "Q: What would our predictions look like, when the neural network produces it?\n",
    "* A. \"5\" or something like that\n",
    "* B. An image of the digit 5\n",
    "* C. A 10-dimensional array"
   ]
  },
  {
   "cell_type": "markdown",
   "id": "4fa18123",
   "metadata": {},
   "source": [
    "## Step 3: Differentiable Programming\n",
    "\n",
    "Libraries like PyTorch, TensorFlow, Caffe, MXNet and more allow us to simplify training neural networks with more interpretable code. Differentiable programming libraries usually work with \"tensors\" which are basically the same as arrays, but they have a special property where differentiable operations are recorded into the variables. Easier to show this than tell:"
   ]
  },
  {
   "cell_type": "code",
   "execution_count": 32,
   "id": "bdf4f7fb",
   "metadata": {
    "scrolled": true
   },
   "outputs": [],
   "source": [
    "input_tensor = torch.tensor(input_reshaped)"
   ]
  },
  {
   "cell_type": "markdown",
   "id": "315ef2a3",
   "metadata": {},
   "source": [
    "Q: What do you think input_tensor looks like?\n",
    "* A. Basically same as input_reshaped\n",
    "* B. Different from input_reshaped\n",
    "* C. None of the above"
   ]
  },
  {
   "cell_type": "code",
   "execution_count": 33,
   "id": "7349c9c0",
   "metadata": {},
   "outputs": [
    {
     "name": "stdout",
     "output_type": "stream",
     "text": [
      "tensor([  0,   0,   0,   0,   0,   0,   0,   0,   0,   0,   0,   0,   0,   0,\n",
      "          0,   0,   0,   0,   0,   0,   0,   0,   0,   0,   0,   0,   0,   0,\n",
      "          0,   0,   0,   0,   0,   0,   0,   0,   0,   0,   0,   0,   0,   0,\n",
      "          0,   0,   0,   0,   0,   0,   0,   0,   0,   0,   0,   0,   0,   0,\n",
      "          0,   0,   0,   0,   0,   0,   0,   0,   0,   0,   0,   0,   0,   0,\n",
      "          0,   0,   0,   0,   0,   0,   0,   0,   0,   0,   0,   0,   0,   0,\n",
      "          0,   0,   0,   0,   0,   0,   0,   0,   0,   0,   0,   0,   0,   0,\n",
      "          0,   0,   0,   0,   0,   0,   0,   0,   0,   0,   0,   0,   0,   0,\n",
      "          0,   0,   0,   0,   0,   0,   0,   0,   0,   0,   0,   0,   0,   0,\n",
      "          0,   0,   0,   0,   0,   0,   0,   0,   0,   0,   0,   0,   0,   0,\n",
      "          0,   0,   0,   0,   0,   0,   0,   0,   0,   0,   0,   0,   3,  18,\n",
      "         18,  18, 126, 136, 175,  26, 166, 255, 247, 127,   0,   0,   0,   0,\n",
      "          0,   0,   0,   0,   0,   0,   0,   0,  30,  36,  94, 154, 170, 253,\n",
      "        253, 253, 253, 253, 225, 172, 253, 242, 195,  64,   0,   0,   0,   0,\n",
      "          0,   0,   0,   0,   0,   0,   0,  49, 238, 253, 253, 253, 253, 253,\n",
      "        253, 253, 253, 251,  93,  82,  82,  56,  39,   0,   0,   0,   0,   0,\n",
      "          0,   0,   0,   0,   0,   0,   0,  18, 219, 253, 253, 253, 253, 253,\n",
      "        198, 182, 247, 241,   0,   0,   0,   0,   0,   0,   0,   0,   0,   0,\n",
      "          0,   0,   0,   0,   0,   0,   0,   0,  80, 156, 107, 253, 253, 205,\n",
      "         11,   0,  43, 154,   0,   0,   0,   0,   0,   0,   0,   0,   0,   0,\n",
      "          0,   0,   0,   0,   0,   0,   0,   0,   0,  14,   1, 154, 253,  90,\n",
      "          0,   0,   0,   0,   0,   0,   0,   0,   0,   0,   0,   0,   0,   0,\n",
      "          0,   0,   0,   0,   0,   0,   0,   0,   0,   0,   0, 139, 253, 190,\n",
      "          2,   0,   0,   0,   0,   0,   0,   0,   0,   0,   0,   0,   0,   0,\n",
      "          0,   0,   0,   0,   0,   0,   0,   0,   0,   0,   0,  11, 190, 253,\n",
      "         70,   0,   0,   0,   0,   0,   0,   0,   0,   0,   0,   0,   0,   0,\n",
      "          0,   0,   0,   0,   0,   0,   0,   0,   0,   0,   0,   0,  35, 241,\n",
      "        225, 160, 108,   1,   0,   0,   0,   0,   0,   0,   0,   0,   0,   0,\n",
      "          0,   0,   0,   0,   0,   0,   0,   0,   0,   0,   0,   0,   0,  81,\n",
      "        240, 253, 253, 119,  25,   0,   0,   0,   0,   0,   0,   0,   0,   0,\n",
      "          0,   0,   0,   0,   0,   0,   0,   0,   0,   0,   0,   0,   0,   0,\n",
      "         45, 186, 253, 253, 150,  27,   0,   0,   0,   0,   0,   0,   0,   0,\n",
      "          0,   0,   0,   0,   0,   0,   0,   0,   0,   0,   0,   0,   0,   0,\n",
      "          0,  16,  93, 252, 253, 187,   0,   0,   0,   0,   0,   0,   0,   0,\n",
      "          0,   0,   0,   0,   0,   0,   0,   0,   0,   0,   0,   0,   0,   0,\n",
      "          0,   0,   0, 249, 253, 249,  64,   0,   0,   0,   0,   0,   0,   0,\n",
      "          0,   0,   0,   0,   0,   0,   0,   0,   0,   0,   0,   0,   0,   0,\n",
      "         46, 130, 183, 253, 253, 207,   2,   0,   0,   0,   0,   0,   0,   0,\n",
      "          0,   0,   0,   0,   0,   0,   0,   0,   0,   0,   0,   0,  39, 148,\n",
      "        229, 253, 253, 253, 250, 182,   0,   0,   0,   0,   0,   0,   0,   0,\n",
      "          0,   0,   0,   0,   0,   0,   0,   0,   0,   0,  24, 114, 221, 253,\n",
      "        253, 253, 253, 201,  78,   0,   0,   0,   0,   0,   0,   0,   0,   0,\n",
      "          0,   0,   0,   0,   0,   0,   0,   0,  23,  66, 213, 253, 253, 253,\n",
      "        253, 198,  81,   2,   0,   0,   0,   0,   0,   0,   0,   0,   0,   0,\n",
      "          0,   0,   0,   0,   0,   0,  18, 171, 219, 253, 253, 253, 253, 195,\n",
      "         80,   9,   0,   0,   0,   0,   0,   0,   0,   0,   0,   0,   0,   0,\n",
      "          0,   0,   0,   0,  55, 172, 226, 253, 253, 253, 253, 244, 133,  11,\n",
      "          0,   0,   0,   0,   0,   0,   0,   0,   0,   0,   0,   0,   0,   0,\n",
      "          0,   0,   0,   0, 136, 253, 253, 253, 212, 135, 132,  16,   0,   0,\n",
      "          0,   0,   0,   0,   0,   0,   0,   0,   0,   0,   0,   0,   0,   0,\n",
      "          0,   0,   0,   0,   0,   0,   0,   0,   0,   0,   0,   0,   0,   0,\n",
      "          0,   0,   0,   0,   0,   0,   0,   0,   0,   0,   0,   0,   0,   0,\n",
      "          0,   0,   0,   0,   0,   0,   0,   0,   0,   0,   0,   0,   0,   0,\n",
      "          0,   0,   0,   0,   0,   0,   0,   0,   0,   0,   0,   0,   0,   0,\n",
      "          0,   0,   0,   0,   0,   0,   0,   0,   0,   0,   0,   0,   0,   0,\n",
      "          0,   0,   0,   0,   0,   0,   0,   0,   0,   0,   0,   0,   0,   0],\n",
      "       dtype=torch.uint8)\n",
      "torch.Size([784])\n"
     ]
    }
   ],
   "source": [
    "print(input_tensor)\n",
    "print(input_tensor.shape)"
   ]
  },
  {
   "cell_type": "markdown",
   "id": "d3f529d8",
   "metadata": {},
   "source": [
    "Now, we will instantiate our neural network. In PyTorch's language, producing predictions from a neural network (model) is a differentiable operation, which we will see soon."
   ]
  },
  {
   "cell_type": "markdown",
   "id": "11787abe",
   "metadata": {},
   "source": [
    "## Step 4: Neural Network\n",
    "\n",
    "In this step, we will instantiate a neural network using PyTorch's `nn.Sequential` class. `nn.Sequential` lets us express a sequence of differentiable operations quite gracefully."
   ]
  },
  {
   "cell_type": "code",
   "execution_count": 34,
   "id": "83450cb1",
   "metadata": {},
   "outputs": [],
   "source": [
    "model = nn.Sequential(\n",
    "    nn.Linear(784, 16),\n",
    "    nn.ReLU(),\n",
    "    nn.Linear(16, 16),\n",
    "    nn.ReLU(),\n",
    "    nn.Linear(16, 10),\n",
    ")"
   ]
  },
  {
   "cell_type": "markdown",
   "id": "d5e7e5a9",
   "metadata": {},
   "source": [
    "## Pop Quiz!\n",
    "\n",
    "Q: What do you think `nn.Linear(784, 16)` is about?\n",
    "\n",
    "* A. a matrix multiplication that reduces a 784-dimensional vector to a 16-dimensional vector\n",
    "* B. a linear interpolation between a 784-dimensional vector and a 16-dimensional vector\n",
    "* C. none of the above"
   ]
  },
  {
   "cell_type": "markdown",
   "id": "a1a3f212",
   "metadata": {},
   "source": [
    "Let's see what the output looks like when we put our 784-dimensional tensor through."
   ]
  },
  {
   "cell_type": "code",
   "execution_count": 35,
   "id": "f0665a3b",
   "metadata": {
    "scrolled": true
   },
   "outputs": [
    {
     "ename": "RuntimeError",
     "evalue": "expected scalar type Byte but found Float",
     "output_type": "error",
     "traceback": [
      "\u001b[0;31m---------------------------------------------------------------------------\u001b[0m",
      "\u001b[0;31mRuntimeError\u001b[0m                              Traceback (most recent call last)",
      "\u001b[0;32m/tmp/ipykernel_3009484/860823003.py\u001b[0m in \u001b[0;36m<module>\u001b[0;34m\u001b[0m\n\u001b[1;32m      1\u001b[0m \u001b[0;31m# forward() is basically the same as predict(), but it's says more explicitly that the operation is differentiable\u001b[0m\u001b[0;34m\u001b[0m\u001b[0;34m\u001b[0m\u001b[0;34m\u001b[0m\u001b[0m\n\u001b[0;32m----> 2\u001b[0;31m \u001b[0mpred_tensor\u001b[0m \u001b[0;34m=\u001b[0m \u001b[0mmodel\u001b[0m\u001b[0;34m.\u001b[0m\u001b[0mforward\u001b[0m\u001b[0;34m(\u001b[0m\u001b[0minput_tensor\u001b[0m\u001b[0;34m)\u001b[0m\u001b[0;34m\u001b[0m\u001b[0;34m\u001b[0m\u001b[0m\n\u001b[0m",
      "\u001b[0;32m~/miniconda3/envs/py37/lib/python3.7/site-packages/torch/nn/modules/container.py\u001b[0m in \u001b[0;36mforward\u001b[0;34m(self, input)\u001b[0m\n\u001b[1;32m    139\u001b[0m     \u001b[0;32mdef\u001b[0m \u001b[0mforward\u001b[0m\u001b[0;34m(\u001b[0m\u001b[0mself\u001b[0m\u001b[0;34m,\u001b[0m \u001b[0minput\u001b[0m\u001b[0;34m)\u001b[0m\u001b[0;34m:\u001b[0m\u001b[0;34m\u001b[0m\u001b[0;34m\u001b[0m\u001b[0m\n\u001b[1;32m    140\u001b[0m         \u001b[0;32mfor\u001b[0m \u001b[0mmodule\u001b[0m \u001b[0;32min\u001b[0m \u001b[0mself\u001b[0m\u001b[0;34m:\u001b[0m\u001b[0;34m\u001b[0m\u001b[0;34m\u001b[0m\u001b[0m\n\u001b[0;32m--> 141\u001b[0;31m             \u001b[0minput\u001b[0m \u001b[0;34m=\u001b[0m \u001b[0mmodule\u001b[0m\u001b[0;34m(\u001b[0m\u001b[0minput\u001b[0m\u001b[0;34m)\u001b[0m\u001b[0;34m\u001b[0m\u001b[0;34m\u001b[0m\u001b[0m\n\u001b[0m\u001b[1;32m    142\u001b[0m         \u001b[0;32mreturn\u001b[0m \u001b[0minput\u001b[0m\u001b[0;34m\u001b[0m\u001b[0;34m\u001b[0m\u001b[0m\n\u001b[1;32m    143\u001b[0m \u001b[0;34m\u001b[0m\u001b[0m\n",
      "\u001b[0;32m~/miniconda3/envs/py37/lib/python3.7/site-packages/torch/nn/modules/module.py\u001b[0m in \u001b[0;36m_call_impl\u001b[0;34m(self, *input, **kwargs)\u001b[0m\n\u001b[1;32m   1100\u001b[0m         if not (self._backward_hooks or self._forward_hooks or self._forward_pre_hooks or _global_backward_hooks\n\u001b[1;32m   1101\u001b[0m                 or _global_forward_hooks or _global_forward_pre_hooks):\n\u001b[0;32m-> 1102\u001b[0;31m             \u001b[0;32mreturn\u001b[0m \u001b[0mforward_call\u001b[0m\u001b[0;34m(\u001b[0m\u001b[0;34m*\u001b[0m\u001b[0minput\u001b[0m\u001b[0;34m,\u001b[0m \u001b[0;34m**\u001b[0m\u001b[0mkwargs\u001b[0m\u001b[0;34m)\u001b[0m\u001b[0;34m\u001b[0m\u001b[0;34m\u001b[0m\u001b[0m\n\u001b[0m\u001b[1;32m   1103\u001b[0m         \u001b[0;31m# Do not call functions when jit is used\u001b[0m\u001b[0;34m\u001b[0m\u001b[0;34m\u001b[0m\u001b[0;34m\u001b[0m\u001b[0m\n\u001b[1;32m   1104\u001b[0m         \u001b[0mfull_backward_hooks\u001b[0m\u001b[0;34m,\u001b[0m \u001b[0mnon_full_backward_hooks\u001b[0m \u001b[0;34m=\u001b[0m \u001b[0;34m[\u001b[0m\u001b[0;34m]\u001b[0m\u001b[0;34m,\u001b[0m \u001b[0;34m[\u001b[0m\u001b[0;34m]\u001b[0m\u001b[0;34m\u001b[0m\u001b[0;34m\u001b[0m\u001b[0m\n",
      "\u001b[0;32m~/miniconda3/envs/py37/lib/python3.7/site-packages/torch/nn/modules/linear.py\u001b[0m in \u001b[0;36mforward\u001b[0;34m(self, input)\u001b[0m\n\u001b[1;32m    101\u001b[0m \u001b[0;34m\u001b[0m\u001b[0m\n\u001b[1;32m    102\u001b[0m     \u001b[0;32mdef\u001b[0m \u001b[0mforward\u001b[0m\u001b[0;34m(\u001b[0m\u001b[0mself\u001b[0m\u001b[0;34m,\u001b[0m \u001b[0minput\u001b[0m\u001b[0;34m:\u001b[0m \u001b[0mTensor\u001b[0m\u001b[0;34m)\u001b[0m \u001b[0;34m->\u001b[0m \u001b[0mTensor\u001b[0m\u001b[0;34m:\u001b[0m\u001b[0;34m\u001b[0m\u001b[0;34m\u001b[0m\u001b[0m\n\u001b[0;32m--> 103\u001b[0;31m         \u001b[0;32mreturn\u001b[0m \u001b[0mF\u001b[0m\u001b[0;34m.\u001b[0m\u001b[0mlinear\u001b[0m\u001b[0;34m(\u001b[0m\u001b[0minput\u001b[0m\u001b[0;34m,\u001b[0m \u001b[0mself\u001b[0m\u001b[0;34m.\u001b[0m\u001b[0mweight\u001b[0m\u001b[0;34m,\u001b[0m \u001b[0mself\u001b[0m\u001b[0;34m.\u001b[0m\u001b[0mbias\u001b[0m\u001b[0;34m)\u001b[0m\u001b[0;34m\u001b[0m\u001b[0;34m\u001b[0m\u001b[0m\n\u001b[0m\u001b[1;32m    104\u001b[0m \u001b[0;34m\u001b[0m\u001b[0m\n\u001b[1;32m    105\u001b[0m     \u001b[0;32mdef\u001b[0m \u001b[0mextra_repr\u001b[0m\u001b[0;34m(\u001b[0m\u001b[0mself\u001b[0m\u001b[0;34m)\u001b[0m \u001b[0;34m->\u001b[0m \u001b[0mstr\u001b[0m\u001b[0;34m:\u001b[0m\u001b[0;34m\u001b[0m\u001b[0;34m\u001b[0m\u001b[0m\n",
      "\u001b[0;32m~/miniconda3/envs/py37/lib/python3.7/site-packages/torch/nn/functional.py\u001b[0m in \u001b[0;36mlinear\u001b[0;34m(input, weight, bias)\u001b[0m\n\u001b[1;32m   1846\u001b[0m     \u001b[0;32mif\u001b[0m \u001b[0mhas_torch_function_variadic\u001b[0m\u001b[0;34m(\u001b[0m\u001b[0minput\u001b[0m\u001b[0;34m,\u001b[0m \u001b[0mweight\u001b[0m\u001b[0;34m,\u001b[0m \u001b[0mbias\u001b[0m\u001b[0;34m)\u001b[0m\u001b[0;34m:\u001b[0m\u001b[0;34m\u001b[0m\u001b[0;34m\u001b[0m\u001b[0m\n\u001b[1;32m   1847\u001b[0m         \u001b[0;32mreturn\u001b[0m \u001b[0mhandle_torch_function\u001b[0m\u001b[0;34m(\u001b[0m\u001b[0mlinear\u001b[0m\u001b[0;34m,\u001b[0m \u001b[0;34m(\u001b[0m\u001b[0minput\u001b[0m\u001b[0;34m,\u001b[0m \u001b[0mweight\u001b[0m\u001b[0;34m,\u001b[0m \u001b[0mbias\u001b[0m\u001b[0;34m)\u001b[0m\u001b[0;34m,\u001b[0m \u001b[0minput\u001b[0m\u001b[0;34m,\u001b[0m \u001b[0mweight\u001b[0m\u001b[0;34m,\u001b[0m \u001b[0mbias\u001b[0m\u001b[0;34m=\u001b[0m\u001b[0mbias\u001b[0m\u001b[0;34m)\u001b[0m\u001b[0;34m\u001b[0m\u001b[0;34m\u001b[0m\u001b[0m\n\u001b[0;32m-> 1848\u001b[0;31m     \u001b[0;32mreturn\u001b[0m \u001b[0mtorch\u001b[0m\u001b[0;34m.\u001b[0m\u001b[0m_C\u001b[0m\u001b[0;34m.\u001b[0m\u001b[0m_nn\u001b[0m\u001b[0;34m.\u001b[0m\u001b[0mlinear\u001b[0m\u001b[0;34m(\u001b[0m\u001b[0minput\u001b[0m\u001b[0;34m,\u001b[0m \u001b[0mweight\u001b[0m\u001b[0;34m,\u001b[0m \u001b[0mbias\u001b[0m\u001b[0;34m)\u001b[0m\u001b[0;34m\u001b[0m\u001b[0;34m\u001b[0m\u001b[0m\n\u001b[0m\u001b[1;32m   1849\u001b[0m \u001b[0;34m\u001b[0m\u001b[0m\n\u001b[1;32m   1850\u001b[0m \u001b[0;34m\u001b[0m\u001b[0m\n",
      "\u001b[0;31mRuntimeError\u001b[0m: expected scalar type Byte but found Float"
     ]
    }
   ],
   "source": [
    "# forward() is basically the same as predict(), but it's says more explicitly that the operation is differentiable\n",
    "pred_tensor = model.forward(input_tensor)"
   ]
  },
  {
   "cell_type": "markdown",
   "id": "23d96209",
   "metadata": {},
   "source": [
    "Oops, looks like the data types are incompatible. Here come some dull/cryptic bits when working with differentiable programming libraries: you must make sure that the data types and input shapes are consistent."
   ]
  },
  {
   "cell_type": "code",
   "execution_count": 36,
   "id": "8239551d",
   "metadata": {
    "scrolled": true
   },
   "outputs": [],
   "source": [
    "pred_tensor = model.forward(input_tensor.float())"
   ]
  },
  {
   "cell_type": "markdown",
   "id": "adcf7e4d",
   "metadata": {},
   "source": [
    "Whew! So we needed to massage our input image as follows:\n",
    "* Turn the image into a 28x28 array\n",
    "* Turn the 28x28 array in to a 784-dimensional array\n",
    "* Turn the array in to a tensor\n",
    "* Cast the data type of the tensor to float to be consistent with expected data type"
   ]
  },
  {
   "cell_type": "markdown",
   "id": "120fb5d0",
   "metadata": {},
   "source": [
    "Let's look at the shape of `pred_tensor`:"
   ]
  },
  {
   "cell_type": "code",
   "execution_count": 37,
   "id": "8edb5ef5",
   "metadata": {},
   "outputs": [
    {
     "name": "stdout",
     "output_type": "stream",
     "text": [
      "torch.Size([10])\n"
     ]
    }
   ],
   "source": [
    "print(pred_tensor.shape)"
   ]
  },
  {
   "cell_type": "markdown",
   "id": "6b584850",
   "metadata": {},
   "source": [
    "Q: Is there any difference from what you were expecting?\n",
    "\n",
    "Now, let's look at what's inside `pred_tensor`."
   ]
  },
  {
   "cell_type": "markdown",
   "id": "562d1a06",
   "metadata": {},
   "source": [
    "Q: Do you think `pred_tensor` would be a \"correct\" prediction?"
   ]
  },
  {
   "cell_type": "code",
   "execution_count": 38,
   "id": "98e1aae2",
   "metadata": {
    "scrolled": true
   },
   "outputs": [
    {
     "name": "stdout",
     "output_type": "stream",
     "text": [
      "tensor([ -3.4802, -13.5976,   6.1866,  11.7319,   1.4448,  -2.5141,  -3.4041,\n",
      "          8.9416,   3.4093,   5.3262], grad_fn=<AddBackward0>)\n"
     ]
    }
   ],
   "source": [
    "print(pred_tensor)"
   ]
  },
  {
   "cell_type": "code",
   "execution_count": 39,
   "id": "8b73c668",
   "metadata": {
    "scrolled": true
   },
   "outputs": [
    {
     "name": "stdout",
     "output_type": "stream",
     "text": [
      "tensor(3)\n"
     ]
    }
   ],
   "source": [
    "print(torch.argmax(pred_tensor))"
   ]
  },
  {
   "cell_type": "markdown",
   "id": "52674342",
   "metadata": {},
   "source": [
    "Of course not! Since the network is completely untrained and it has no idea what a digit 5 looks like."
   ]
  },
  {
   "cell_type": "markdown",
   "id": "ec801a53",
   "metadata": {},
   "source": [
    "## Step 5: Loss Function\n",
    "\n",
    "As you see, initializing a NN and just producing a prediction doesn't do anything. We must provide a \"training signal\" to the network using a loss function, as discussed in the lecture."
   ]
  },
  {
   "cell_type": "code",
   "execution_count": 40,
   "id": "18eeeddc",
   "metadata": {},
   "outputs": [
    {
     "name": "stdout",
     "output_type": "stream",
     "text": [
      "tensor(3) tensor(5)\n"
     ]
    }
   ],
   "source": [
    "label_tensor = torch.tensor(label)\n",
    "print(torch.argmax(pred_tensor), label_tensor)"
   ]
  },
  {
   "cell_type": "markdown",
   "id": "7bdee3d0",
   "metadata": {},
   "source": [
    "So right now the neural network thinks the image is a \"3\". Of course, it has no idea what it's saying. Let's give it a feedback of a sort, expressed via a *loss function*."
   ]
  },
  {
   "cell_type": "code",
   "execution_count": 41,
   "id": "82cacb2e",
   "metadata": {},
   "outputs": [],
   "source": [
    "# We won't go into details about what CrossEntropyLoss is, but just know that this is the correct loss\n",
    "# for our task and current format of input/output representations\n",
    "cross_entropy_loss = nn.CrossEntropyLoss()"
   ]
  },
  {
   "cell_type": "code",
   "execution_count": 43,
   "id": "69dd4723",
   "metadata": {},
   "outputs": [
    {
     "name": "stdout",
     "output_type": "stream",
     "text": [
      "tensor(14.3111, grad_fn=<NllLossBackward0>)\n"
     ]
    }
   ],
   "source": [
    "# Another shape massaging, but I won't get into it too much. Once you wrangle tensors for long enough, \n",
    "# it becomes pretty clear.\n",
    "loss = cross_entropy_loss.forward(pred_tensor.unsqueeze(0), label_tensor.unsqueeze(0))\n",
    "print(loss)"
   ]
  },
  {
   "cell_type": "markdown",
   "id": "18164c15",
   "metadata": {},
   "source": [
    "Aha, now we successfully quantified the performance of our current NN.\n",
    "\n",
    "Q: Making an NN \"better\" would correspond to...\n",
    "* A. Minimizing the value coming from `cross_entropy_loss.forward()`\n",
    "* B. Maximizing the value coming from `cross_entropy_loss.forward()`\n",
    "* C. None of the above\n"
   ]
  },
  {
   "cell_type": "markdown",
   "id": "dc8de6a3",
   "metadata": {},
   "source": [
    "## Step 6: Optimization algorithm"
   ]
  },
  {
   "cell_type": "markdown",
   "id": "d9cfd231",
   "metadata": {},
   "source": [
    "The very last step for us is to use an optimization algorithm to optimize the loss value. How? Well, it's a pretty complex concept. For now, I'll present you PyTorch's beautifully elegant way to use optimization algorithms out-of-the-box."
   ]
  },
  {
   "cell_type": "code",
   "execution_count": 44,
   "id": "65b38067",
   "metadata": {},
   "outputs": [],
   "source": [
    "optimizer = torch.optim.Adam(lr=3e-4, params=model.parameters())"
   ]
  },
  {
   "cell_type": "markdown",
   "id": "be33a71d",
   "metadata": {},
   "source": [
    "Explanation:\n",
    "* \"Adam\" is a widely popular optimization algorithm that has 10k+ citations. It's not perfect, but it's a great starting point.\n",
    "* `lr` stands for learning rate. For now, I'm using some number according to my intuitive guess of what a good learning rate looks like.\n",
    "* `params` specifies what I'm changing in order to make the loss function lower, hence the connections of our NN.\n",
    "\n",
    "Optimizers are easy to use, if you forgive some arbitrary-looking steps."
   ]
  },
  {
   "cell_type": "code",
   "execution_count": 45,
   "id": "d64f890d",
   "metadata": {},
   "outputs": [],
   "source": [
    "optimizer.zero_grad()\n",
    "loss.backward()\n",
    "optimizer.step()"
   ]
  },
  {
   "cell_type": "markdown",
   "id": "519164bb",
   "metadata": {},
   "source": [
    "Just for the demonstration of what that chunk of code just did, I'll redo the prediction and loss calculation steps."
   ]
  },
  {
   "cell_type": "code",
   "execution_count": 46,
   "id": "b5fb839a",
   "metadata": {},
   "outputs": [
    {
     "name": "stdout",
     "output_type": "stream",
     "text": [
      "tensor(11.1902, grad_fn=<NllLossBackward0>)\n"
     ]
    }
   ],
   "source": [
    "pred_tensor = model.forward(input_tensor.float().reshape(1, -1))\n",
    "loss = cross_entropy_loss.forward(pred_tensor, label_tensor.reshape(-1))\n",
    "print(loss)"
   ]
  },
  {
   "cell_type": "markdown",
   "id": "e1e766dd",
   "metadata": {},
   "source": [
    "Q: Note the differences in number. What do you think happened?\n",
    "* A. The parameters of our NN got changed by optimizer\n",
    "* B. The prediction from our NN got changed\n",
    "* C. All of the above\n",
    "\n",
    "If I did this many many times, my NN would know what the correct label is!"
   ]
  },
  {
   "cell_type": "code",
   "execution_count": 47,
   "id": "2f437ac0",
   "metadata": {},
   "outputs": [
    {
     "name": "stderr",
     "output_type": "stream",
     "text": [
      "100%|███████████████████████████████████████████████████████████████████████████████████| 1000/1000 [00:00<00:00, 2430.26it/s]\n"
     ]
    }
   ],
   "source": [
    "for _ in tqdm(range(1000)):\n",
    "    # get the latest version of prediction\n",
    "    pred_tensor = model.forward(input_tensor.float().reshape(1, -1))\n",
    "    # compute loss based on predictions (note that label_tensor never changes!)\n",
    "    loss = cross_entropy_loss.forward(pred_tensor, label_tensor.reshape(-1))\n",
    "    # perform an optimization step, which mutates our NN\n",
    "    optimizer.zero_grad()\n",
    "    loss.backward()\n",
    "    optimizer.step()\n",
    "    \n",
    "    # rinse and repeat 1000 times!"
   ]
  },
  {
   "cell_type": "code",
   "execution_count": 48,
   "id": "597ba1e2",
   "metadata": {
    "scrolled": true
   },
   "outputs": [
    {
     "name": "stdout",
     "output_type": "stream",
     "text": [
      "tensor(0.0003, grad_fn=<NllLossBackward0>)\n"
     ]
    }
   ],
   "source": [
    "print(loss)"
   ]
  },
  {
   "cell_type": "markdown",
   "id": "1176c3d9",
   "metadata": {},
   "source": [
    "Wow, that's a pretty \"small\" number. Here's what our latest prediction looks like:"
   ]
  },
  {
   "cell_type": "code",
   "execution_count": 49,
   "id": "3d4b8dc8",
   "metadata": {
    "scrolled": true
   },
   "outputs": [
    {
     "name": "stdout",
     "output_type": "stream",
     "text": [
      "tensor([[ -9.5457,  -7.6440,  -0.2429,   3.1941,   3.6783,  13.1232,  -6.9873,\n",
      "          -2.4683,   4.2729, -18.8467]], grad_fn=<AddmmBackward0>)\n",
      "tensor(5) tensor([5])\n"
     ]
    }
   ],
   "source": [
    "pred_tensor = model.forward(input_tensor.float().reshape(1, -1))\n",
    "print(pred_tensor)\n",
    "print(torch.argmax(pred_tensor), label_tensor.reshape(-1))"
   ]
  },
  {
   "cell_type": "markdown",
   "id": "d1cd6acd",
   "metadata": {},
   "source": [
    "That's a huge improvement from thinking it's a \"3\"!"
   ]
  },
  {
   "cell_type": "markdown",
   "id": "8c4df5f3",
   "metadata": {},
   "source": [
    "## Putting it altogether\n",
    "\n",
    "Thus far, for the sake of demonstration, we only used one example (image/label pair) to train our neural network. Of course, this is not super useful. For example, it never had the chance to see what other digits look like!\n",
    "\n",
    "Ideally, we should use all of the 60000 digits to train a decent digit classifier. For the interest of time, though, we use only 100 digits for now. Forgive a few magic lines that I don't have time to get into, but believe that all of the 6 steps discussed above are still present."
   ]
  },
  {
   "cell_type": "code",
   "execution_count": 51,
   "id": "0cb388f1",
   "metadata": {},
   "outputs": [],
   "source": [
    "def collate(examples):\n",
    "    inputs = torch.stack([torch.tensor(np.array(input)).reshape(-1) for input, _ in examples], dim=0)\n",
    "    labels = torch.tensor([label for _, label in examples])\n",
    "    return inputs, labels    \n",
    "\n",
    "subset = Subset(dataset, np.arange(100))\n",
    "data_loader = DataLoader(subset, batch_size=100, collate_fn=collate)\n",
    "\n",
    "model = nn.Sequential(\n",
    "    nn.Linear(784, 1024),\n",
    "    nn.ReLU(),\n",
    "    nn.Linear(1024, 1024),\n",
    "    nn.ReLU(),\n",
    "    nn.Linear(1024, 10),\n",
    ")\n",
    "optimizer = torch.optim.Adam(lr=3e-4, params=model.parameters())"
   ]
  },
  {
   "cell_type": "markdown",
   "id": "382d5dbf",
   "metadata": {},
   "source": [
    "Q: Look at the way we instantiated `model` just now. Why would I want to use 1024 as the layer size now?"
   ]
  },
  {
   "cell_type": "code",
   "execution_count": 55,
   "id": "d0f4302f",
   "metadata": {},
   "outputs": [
    {
     "name": "stderr",
     "output_type": "stream",
     "text": [
      "100%|██████████████████████████████████████████████████████████████████████████████████████| 100/100 [00:00<00:00, 203.53it/s]\n"
     ]
    }
   ],
   "source": [
    "for _ in tqdm(range(100)):\n",
    "    epoch_loss = 0.\n",
    "    for example in data_loader:\n",
    "        input, label = example\n",
    "        input = input.float() / 255.\n",
    "        \n",
    "        # gpu acceleration\n",
    "        model = model.cuda()\n",
    "        input_tensor = input_tensor.cuda()\n",
    "        label_tensor = label_tensor.cuda()\n",
    "        \n",
    "        # get the latest version of prediction\n",
    "        pred_tensor = model.forward(input_tensor)\n",
    "\n",
    "        # compute loss based on predictions (note that label_tensor never changes!)\n",
    "        loss = cross_entropy_loss.forward(pred_tensor, label_tensor.reshape(-1))\n",
    "        \n",
    "        # perform an optimization step, which mutates our NN\n",
    "        optimizer.zero_grad()\n",
    "        loss.backward()\n",
    "        optimizer.step()\n",
    "        \n",
    "        epoch_loss += loss.data\n",
    "    epoch_loss /= len(subset)"
   ]
  },
  {
   "cell_type": "code",
   "execution_count": 56,
   "id": "24c9ef83",
   "metadata": {},
   "outputs": [],
   "source": [
    "# for our case, inference doesn't need gpu acceleration\n",
    "model = model.cpu()\n",
    "input_tensor = input_tensor.cpu()\n",
    "label_tensor = label_tensor.cpu()"
   ]
  },
  {
   "cell_type": "code",
   "execution_count": 57,
   "id": "d866b18e",
   "metadata": {},
   "outputs": [
    {
     "data": {
      "image/png": "[encoded data removed]",
      "text/plain": [
       "<Figure size 432x288 with 1 Axes>"
      ]
     },
     "metadata": {
      "needs_background": "light"
     },
     "output_type": "display_data"
    },
    {
     "data": {
      "image/png": "[encoded data removed]",
      "text/plain": [
       "<Figure size 432x288 with 1 Axes>"
      ]
     },
     "metadata": {
      "needs_background": "light"
     },
     "output_type": "display_data"
    },
    {
     "data": {
      "image/png": "[encoded data removed]",
      "text/plain": [
       "<Figure size 432x288 with 1 Axes>"
      ]
     },
     "metadata": {
      "needs_background": "light"
     },
     "output_type": "display_data"
    },
    {
     "data": {
      "image/png": "[encoded data removed]",
      "text/plain": [
       "<Figure size 432x288 with 1 Axes>"
      ]
     },
     "metadata": {
      "needs_background": "light"
     },
     "output_type": "display_data"
    },
    {
     "data": {
      "image/png": "[encoded data removed]",
      "text/plain": [
       "<Figure size 432x288 with 1 Axes>"
      ]
     },
     "metadata": {
      "needs_background": "light"
     },
     "output_type": "display_data"
    },
    {
     "data": {
      "image/png": "[encoded data removed]",
      "text/plain": [
       "<Figure size 432x288 with 1 Axes>"
      ]
     },
     "metadata": {
      "needs_background": "light"
     },
     "output_type": "display_data"
    },
    {
     "data": {
      "image/png": "[encoded data removed]",
      "text/plain": [
       "<Figure size 432x288 with 1 Axes>"
      ]
     },
     "metadata": {
      "needs_background": "light"
     },
     "output_type": "display_data"
    },
    {
     "data": {
      "image/png": "[encoded data removed]",
      "text/plain": [
       "<Figure size 432x288 with 1 Axes>"
      ]
     },
     "metadata": {
      "needs_background": "light"
     },
     "output_type": "display_data"
    },
    {
     "data": {
      "image/png": "[encoded data removed]",
      "text/plain": [
       "<Figure size 432x288 with 1 Axes>"
      ]
     },
     "metadata": {
      "needs_background": "light"
     },
     "output_type": "display_data"
    },
    {
     "data": {
      "image/png": "[encoded data removed]",
      "text/plain": [
       "<Figure size 432x288 with 1 Axes>"
      ]
     },
     "metadata": {
      "needs_background": "light"
     },
     "output_type": "display_data"
    }
   ],
   "source": [
    "for i in range(10):\n",
    "    input, label = subset[i]\n",
    "    input_array = np.array(input)\n",
    "    input_reshaped = np.array(input).reshape(1, -1)\n",
    "    input_tensor = torch.tensor(input_reshaped).float() / 255.\n",
    "    pred_tensor = model.forward(input_tensor)\n",
    "    prob_tensor = torch.softmax(pred_tensor, dim=1)\n",
    "    \n",
    "    plt.figure()\n",
    "    plt.imshow(input_array, cmap=\"gray\")\n",
    "    plt.title(f\"prediction:{torch.argmax(prob_tensor).item()}\")\n",
    "    plt.show()"
   ]
  },
  {
   "cell_type": "markdown",
   "id": "03bd69d2",
   "metadata": {},
   "source": [
    "# But Before You Go...\n",
    "\n",
    "Is our NN actually useful in the wild? i.e. if I show more digit images that were NOT used during training, what happens?"
   ]
  },
  {
   "cell_type": "code",
   "execution_count": 34,
   "id": "2add4c66",
   "metadata": {},
   "outputs": [
    {
     "data": {
      "image/png": "[encoded data removed]",
      "text/plain": [
       "<Figure size 432x288 with 1 Axes>"
      ]
     },
     "metadata": {
      "needs_background": "light"
     },
     "output_type": "display_data"
    },
    {
     "data": {
      "image/png": "[encoded data removed]",
      "text/plain": [
       "<Figure size 432x288 with 1 Axes>"
      ]
     },
     "metadata": {
      "needs_background": "light"
     },
     "output_type": "display_data"
    },
    {
     "data": {
      "image/png": "[encoded data removed]",
      "text/plain": [
       "<Figure size 432x288 with 1 Axes>"
      ]
     },
     "metadata": {
      "needs_background": "light"
     },
     "output_type": "display_data"
    },
    {
     "data": {
      "image/png": "[encoded data removed]",
      "text/plain": [
       "<Figure size 432x288 with 1 Axes>"
      ]
     },
     "metadata": {
      "needs_background": "light"
     },
     "output_type": "display_data"
    },
    {
     "data": {
      "image/png": "[encoded data removed]",
      "text/plain": [
       "<Figure size 432x288 with 1 Axes>"
      ]
     },
     "metadata": {
      "needs_background": "light"
     },
     "output_type": "display_data"
    },
    {
     "data": {
      "image/png": "[encoded data removed]",
      "text/plain": [
       "<Figure size 432x288 with 1 Axes>"
      ]
     },
     "metadata": {
      "needs_background": "light"
     },
     "output_type": "display_data"
    },
    {
     "data": {
      "image/png": "[encoded data removed]",
      "text/plain": [
       "<Figure size 432x288 with 1 Axes>"
      ]
     },
     "metadata": {
      "needs_background": "light"
     },
     "output_type": "display_data"
    },
    {
     "data": {
      "image/png": "[encoded data removed]",
      "text/plain": [
       "<Figure size 432x288 with 1 Axes>"
      ]
     },
     "metadata": {
      "needs_background": "light"
     },
     "output_type": "display_data"
    },
    {
     "data": {
      "image/png": "[encoded data removed]",
      "text/plain": [
       "<Figure size 432x288 with 1 Axes>"
      ]
     },
     "metadata": {
      "needs_background": "light"
     },
     "output_type": "display_data"
    },
    {
     "data": {
      "image/png": "[encoded data removed]",
      "text/plain": [
       "<Figure size 432x288 with 1 Axes>"
      ]
     },
     "metadata": {
      "needs_background": "light"
     },
     "output_type": "display_data"
    },
    {
     "data": {
      "image/png": "[encoded data removed]",
      "text/plain": [
       "<Figure size 432x288 with 1 Axes>"
      ]
     },
     "metadata": {
      "needs_background": "light"
     },
     "output_type": "display_data"
    }
   ],
   "source": [
    "for i in np.arange(100, 111):\n",
    "    input, label = dataset[i]\n",
    "    input_array = np.array(input)\n",
    "    input_reshaped = np.array(input).reshape(1, -1)\n",
    "    input_tensor = torch.tensor(input_reshaped).float() / 255.\n",
    "    pred_tensor = model.forward(input_tensor)\n",
    "    prob_tensor = torch.softmax(pred_tensor, dim=1)\n",
    "    \n",
    "    plt.figure()\n",
    "    plt.imshow(input_array, cmap=\"gray\")\n",
    "    plt.title(f\"prediction:{torch.argmax(prob_tensor).item()}\")\n",
    "#     print(torch.argmax(pred_tensor), label)"
   ]
  },
  {
   "cell_type": "markdown",
   "id": "fbcab94f",
   "metadata": {},
   "source": [
    "Lots of errors start showing up. This is called *overfitting*. We won't be getting too much in detail about this, but be aware that for your NN to be useful at inference time, you need more \"general\" performance, usually achieved by e.g.:\n",
    "* Using more data\n",
    "* Using sparser architectures\n",
    "* Using augmentations\n",
    "* Using better *hyperparameters*"
   ]
  }
 ],
 "metadata": {
  "kernelspec": {
   "display_name": "Python 3 (ipykernel)",
   "language": "python",
   "name": "python3"
  },
  "language_info": {
   "codemirror_mode": {
    "name": "ipython",
    "version": 3
   },
   "file_extension": ".py",
   "mimetype": "text/x-python",
   "name": "python",
   "nbconvert_exporter": "python",
   "pygments_lexer": "ipython3",
   "version": "3.7.11"
  }
 },
 "nbformat": 4,
 "nbformat_minor": 5
}
